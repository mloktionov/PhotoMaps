{
 "cells": [
  {
   "cell_type": "code",
   "execution_count": 6,
   "id": "8e19440f-d12f-4274-914d-7dbe5353d6f9",
   "metadata": {
    "tags": []
   },
   "outputs": [
    {
     "name": "stdout",
     "output_type": "stream",
     "text": [
      "🔎 Проверяем пути:\n",
      "=====================================\n",
      "✅ Файл найден: index.html\n",
      "✅ Файл найден: js/map2.js\n",
      "✅ Файл найден: js/MapContainer.js\n",
      "✅ Файл найден: js/TopPanel.js\n",
      "✅ Файл найден: csv/photos.csv\n",
      "✅ Папка найдена: thumbnails\n",
      "✅ Папка найдена: photos\n",
      "=====================================\n"
     ]
    }
   ],
   "source": [
    "import os\n",
    "\n",
    "# 📌 Укажи корневую папку, где лежит index.html\n",
    "ROOT = \"/Users/mloktionov/PycharmProjects/PhotoMaps\"  # например: \"/Users/mloktionov/PhotoMaps\"\n",
    "\n",
    "# 📂 Пути, которые мы проверяем\n",
    "paths = [\n",
    "    \"index.html\",\n",
    "    \"js/map2.js\",\n",
    "    \"js/MapContainer.js\",\n",
    "    \"js/TopPanel.js\",\n",
    "    \"csv/photos.csv\",\n",
    "    \"thumbnails\",\n",
    "    \"photos\"\n",
    "]\n",
    "\n",
    "print(\"🔎 Проверяем пути:\")\n",
    "print(\"=====================================\")\n",
    "\n",
    "for path in paths:\n",
    "    full_path = os.path.join(ROOT, path)\n",
    "    if os.path.exists(full_path):\n",
    "        if os.path.isdir(full_path):\n",
    "            print(f\"✅ Папка найдена: {path}\")\n",
    "        else:\n",
    "            print(f\"✅ Файл найден: {path}\")\n",
    "    else:\n",
    "        print(f\"❌ Не найдено: {path}\")\n",
    "\n",
    "print(\"=====================================\")"
   ]
  },
  {
   "cell_type": "code",
   "execution_count": 9,
   "id": "d8182186-32a6-4e4c-8c29-2ef5867e5cff",
   "metadata": {
    "tags": []
   },
   "outputs": [
    {
     "name": "stdout",
     "output_type": "stream",
     "text": [
      "🔍 Проверка доступности файлов на сервере:\n",
      "========================================\n",
      "✅ /index.html — text/html\n",
      "✅ /js/map2.js — text/javascript\n",
      "✅ /js/MapContainer.js — text/javascript\n",
      "✅ /js/TopPanel.js — text/javascript\n",
      "✅ /css/style.css — text/css\n",
      "⚠️ /csv/photos.csv — Неверный Content-Type: text/csv\n",
      "========================================\n"
     ]
    }
   ],
   "source": [
    "import requests\n",
    "\n",
    "# Адрес твоего локального сервера\n",
    "BASE_URL = \"http://localhost:8000\"\n",
    "\n",
    "# Пути, которые мы проверяем\n",
    "paths = [\n",
    "    \"/index.html\",\n",
    "    \"/js/map2.js\",\n",
    "    \"/js/MapContainer.js\",\n",
    "    \"/js/TopPanel.js\",\n",
    "    \"/css/style.css\",\n",
    "    \"/csv/photos.csv\"\n",
    "]\n",
    "\n",
    "print(\"🔍 Проверка доступности файлов на сервере:\")\n",
    "print(\"========================================\")\n",
    "\n",
    "for path in paths:\n",
    "    url = f\"{BASE_URL}{path}\"\n",
    "    try:\n",
    "        response = requests.get(url)\n",
    "        content_type = response.headers.get('Content-Type', 'Unknown')\n",
    "        status = response.status_code\n",
    "\n",
    "        if status == 200:\n",
    "            if \"javascript\" in content_type or \"css\" in content_type or \"html\" in content_type:\n",
    "                print(f\"✅ {path} — {content_type}\")\n",
    "            else:\n",
    "                print(f\"⚠️ {path} — Неверный Content-Type: {content_type}\")\n",
    "        else:\n",
    "            print(f\"❌ {path} — Ошибка {status}\")\n",
    "\n",
    "    except Exception as e:\n",
    "        print(f\"❌ {path} — Ошибка запроса: {e}\")\n",
    "\n",
    "print(\"========================================\")"
   ]
  },
  {
   "cell_type": "code",
   "execution_count": 12,
   "id": "0719a55e-63b6-4180-9eb0-dc5038ee4302",
   "metadata": {
    "tags": []
   },
   "outputs": [
    {
     "name": "stdout",
     "output_type": "stream",
     "text": [
      "🔍 Проверка доступности файлов на сервере:\n",
      "========================================\n",
      "✅ /js/map2.js — text/javascript\n",
      "✅ /js/MapContainer.js — text/javascript\n",
      "✅ /js/TopPanel.js — text/javascript\n",
      "✅ /csv/photos.csv — CSV найден\n",
      "✅ /thumbnails — text/html; charset=utf-8\n",
      "✅ /photos — text/html; charset=utf-8\n",
      "========================================\n"
     ]
    }
   ],
   "source": [
    "import requests\n",
    "\n",
    "# Адрес твоего локального сервера\n",
    "BASE_URL = \"http://localhost:8000\"\n",
    "\n",
    "# Пути, которые мы проверяем\n",
    "paths = [\n",
    "    \"/js/map2.js\",\n",
    "    \"/js/MapContainer.js\",\n",
    "    \"/js/TopPanel.js\",\n",
    "    \"/csv/photos.csv\",\n",
    "    \"/thumbnails\",\n",
    "    \"/photos\"\n",
    "]\n",
    "\n",
    "print(\"🔍 Проверка доступности файлов на сервере:\")\n",
    "print(\"========================================\")\n",
    "\n",
    "for path in paths:\n",
    "    url = f\"{BASE_URL}{path}\"\n",
    "    try:\n",
    "        response = requests.get(url)\n",
    "        content_type = response.headers.get('Content-Type', 'Unknown')\n",
    "        status = response.status_code\n",
    "\n",
    "        if status == 200:\n",
    "            if \"javascript\" in content_type or \"css\" in content_type or \"html\" in content_type:\n",
    "                print(f\"✅ {path} — {content_type}\")\n",
    "            elif \"text/csv\" in content_type:\n",
    "                print(f\"✅ {path} — CSV найден\")\n",
    "            else:\n",
    "                print(f\"⚠️ {path} — Неверный Content-Type: {content_type}\")\n",
    "        else:\n",
    "            print(f\"❌ {path} — Ошибка {status}\")\n",
    "\n",
    "    except Exception as e:\n",
    "        print(f\"❌ {path} — Ошибка запроса: {e}\")\n",
    "\n",
    "print(\"========================================\")"
   ]
  },
  {
   "cell_type": "code",
   "execution_count": null,
   "id": "fd17bc97-5b26-40e6-93d8-0c997277c461",
   "metadata": {},
   "outputs": [],
   "source": []
  }
 ],
 "metadata": {
  "kernelspec": {
   "display_name": "Python 3 (ipykernel)",
   "language": "python",
   "name": "python3"
  },
  "language_info": {
   "codemirror_mode": {
    "name": "ipython",
    "version": 3
   },
   "file_extension": ".py",
   "mimetype": "text/x-python",
   "name": "python",
   "nbconvert_exporter": "python",
   "pygments_lexer": "ipython3",
   "version": "3.11.8"
  }
 },
 "nbformat": 4,
 "nbformat_minor": 5
}
