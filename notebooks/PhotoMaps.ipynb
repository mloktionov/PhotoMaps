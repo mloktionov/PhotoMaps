{
 "cells": [
  {
   "cell_type": "markdown",
   "id": "dcd8b4ca-c76a-4095-8834-da0a81e2b41b",
   "metadata": {},
   "source": [
    "## Checking photos for coords"
   ]
  },
  {
   "cell_type": "code",
   "execution_count": 7,
   "id": "7e316ff2-1e4c-477d-b949-2259f39424e5",
   "metadata": {
    "tags": []
   },
   "outputs": [
    {
     "name": "stdout",
     "output_type": "stream",
     "text": [
      "📁 Сканируем: /Users/mloktionov/PycharmProjects/PhotoMaps/images\n"
     ]
    },
    {
     "name": "stderr",
     "output_type": "stream",
     "text": [
      "📍 Обработка изображений: 100%|█████████████| 242/242 [00:00<00:00, 2144.82it/s]"
     ]
    },
    {
     "name": "stdout",
     "output_type": "stream",
     "text": [
      "✅ CSV сохранён: /Users/mloktionov/PycharmProjects/PhotoMaps/csv/photos.csv\n"
     ]
    },
    {
     "name": "stderr",
     "output_type": "stream",
     "text": [
      "\n"
     ]
    }
   ],
   "source": [
    "import os\n",
    "import pandas as pd\n",
    "from PIL import Image\n",
    "from PIL.ExifTags import TAGS, GPSTAGS\n",
    "from tqdm import tqdm\n",
    "\n",
    "# 🔧 Путь к папке с изображениями\n",
    "folder_path = os.path.expanduser(\"~/PycharmProjects/PhotoMaps/images\")\n",
    "output_folder = os.path.join(os.path.dirname(folder_path), \"csv\")\n",
    "os.makedirs(output_folder, exist_ok=True)\n",
    "\n",
    "def convert_to_degrees(v):\n",
    "    d, m, s = v\n",
    "    return float(d) + float(m)/60 + float(s)/3600\n",
    "\n",
    "def extract_gps_pillow(image_path):\n",
    "    try:\n",
    "        image = Image.open(image_path)\n",
    "        exif_data = image._getexif()\n",
    "        if not exif_data:\n",
    "            return None, None\n",
    "\n",
    "        gps_raw = {}\n",
    "        for tag_id, val in exif_data.items():\n",
    "            tag = TAGS.get(tag_id)\n",
    "            if tag == \"GPSInfo\":\n",
    "                for key in val:\n",
    "                    gps_tag = GPSTAGS.get(key)\n",
    "                    gps_raw[gps_tag] = val[key]\n",
    "\n",
    "        if 'GPSLatitude' in gps_raw and 'GPSLongitude' in gps_raw:\n",
    "            lat = convert_to_degrees(gps_raw['GPSLatitude'])\n",
    "            if gps_raw.get('GPSLatitudeRef', 'N') != 'N':\n",
    "                lat = -lat\n",
    "            lon = convert_to_degrees(gps_raw['GPSLongitude'])\n",
    "            if gps_raw.get('GPSLongitudeRef', 'E') != 'E':\n",
    "                lon = -lon\n",
    "            return lat, lon\n",
    "        else:\n",
    "            return None, None\n",
    "    except Exception as e:\n",
    "        print(f\"❌ Ошибка при обработке {image_path}: {e}\")\n",
    "        return None, None\n",
    "\n",
    "def scan_folder(path):\n",
    "    records = []\n",
    "    image_files = []\n",
    "    for root, _, files in os.walk(path):\n",
    "        for fname in files:\n",
    "            if fname.lower().endswith(('.jpg', '.jpeg')):\n",
    "                image_files.append(os.path.join(root, fname))\n",
    "\n",
    "    for full_path in tqdm(image_files, desc=\"📍 Обработка изображений\", ncols=80):\n",
    "        lat, lon = extract_gps_pillow(full_path)\n",
    "        records.append({\n",
    "            'filename': os.path.basename(full_path),\n",
    "            'folder': os.path.dirname(full_path),\n",
    "            'latitude': lat,\n",
    "            'longitude': lon\n",
    "        })\n",
    "\n",
    "    return pd.DataFrame(records)\n",
    "\n",
    "# === Запуск\n",
    "print(f\"📁 Сканируем: {folder_path}\")\n",
    "df = scan_folder(folder_path)\n",
    "\n",
    "# === Сохраняем результат\n",
    "csv_path = os.path.join(output_folder, \"photos.csv\")\n",
    "df.to_csv(csv_path, index=False)\n",
    "print(f\"✅ CSV сохранён: {csv_path}\")"
   ]
  },
  {
   "cell_type": "code",
   "execution_count": 24,
   "id": "9f67e05d-c77f-4721-9466-78b62789c691",
   "metadata": {
    "tags": []
   },
   "outputs": [
    {
     "name": "stdout",
     "output_type": "stream",
     "text": [
      "✅ Готово! KML сохранён: Poland_Map_2022_2025.kml\n"
     ]
    }
   ],
   "source": [
    "import os\n",
    "import pandas as pd\n",
    "from xml.dom.minidom import Document\n",
    "import re\n",
    "\n",
    "# === НАСТРОЙКИ ===\n",
    "COORDS_CSV = \"photos.csv\"\n",
    "IDS_CSV = \"drive_file_ids.csv\"\n",
    "KML_OUTPUT = \"Poland_Map_2022_2025.kml\"\n",
    "BASE_URL = \"https://drive.google.com/uc?export=view&id=\"\n",
    "\n",
    "# === Загрузка CSV\n",
    "df_coords = pd.read_csv(COORDS_CSV)\n",
    "df_ids = pd.read_csv(IDS_CSV)\n",
    "\n",
    "# === Слияние по filename\n",
    "df = pd.merge(df_coords, df_ids, on='filename', how='inner')\n",
    "df = df.dropna(subset=['latitude', 'longitude'])\n",
    "\n",
    "# === Функция извлечения даты из имени файла\n",
    "def extract_date(filename):\n",
    "    match = re.search(r'IMG_(\\d{4})(\\d{2})(\\d{2})', filename)\n",
    "    if match:\n",
    "        return f\"{match.group(1)}-{match.group(2)}-{match.group(3)}\"\n",
    "    else:\n",
    "        return filename  # если дата не найдена — оставить оригинальное имя\n",
    "\n",
    "# === Генерация KML\n",
    "doc = Document()\n",
    "kml = doc.createElement('kml')\n",
    "kml.setAttribute('xmlns', 'http://www.opengis.net/kml/2.2')\n",
    "doc.appendChild(kml)\n",
    "\n",
    "document = doc.createElement('Document')\n",
    "kml.appendChild(document)\n",
    "\n",
    "for _, row in df.iterrows():\n",
    "    placemark = doc.createElement('Placemark')\n",
    "\n",
    "    # Название точки = дата из имени файла\n",
    "    point_name = extract_date(row['filename'])\n",
    "    name = doc.createElement('name')\n",
    "    name.appendChild(doc.createTextNode(point_name))\n",
    "    placemark.appendChild(name)\n",
    "\n",
    "    # Описание с <img>\n",
    "    desc = doc.createElement('description')\n",
    "    img_url = f\"{BASE_URL}{row['file_id']}\"\n",
    "    html = f'<img src=\"{img_url}\" width=\"400\"><br>{row[\"filename\"]}'\n",
    "    cdata = doc.createCDATASection(html)\n",
    "    desc.appendChild(cdata)\n",
    "    placemark.appendChild(desc)\n",
    "\n",
    "    # Координаты\n",
    "    point = doc.createElement('Point')\n",
    "    coord = doc.createElement('coordinates')\n",
    "    coord.appendChild(doc.createTextNode(f\"{row['longitude']},{row['latitude']},0\"))\n",
    "    point.appendChild(coord)\n",
    "    placemark.appendChild(point)\n",
    "\n",
    "    document.appendChild(placemark)\n",
    "\n",
    "# === Сохранение файла\n",
    "with open(KML_OUTPUT, \"w\", encoding=\"utf-8\") as f:\n",
    "    f.write(doc.toprettyxml(indent=\"  \"))\n",
    "\n",
    "print(f\"✅ Готово! KML сохранён: {KML_OUTPUT}\")"
   ]
  },
  {
   "cell_type": "code",
   "execution_count": 30,
   "id": "4a684d39-13a5-45e7-96ec-5f4ef295433d",
   "metadata": {
    "tags": []
   },
   "outputs": [
    {
     "name": "stderr",
     "output_type": "stream",
     "text": [
      "Генерация миниатюр: 100%|█████████████████████| 242/242 [00:05<00:00, 41.39it/s]"
     ]
    },
    {
     "name": "stdout",
     "output_type": "stream",
     "text": [
      "✅ Сжато 242 изображений в папку 'thumbnails'\n"
     ]
    },
    {
     "name": "stderr",
     "output_type": "stream",
     "text": [
      "\n"
     ]
    }
   ],
   "source": [
    "import os\n",
    "from PIL import Image\n",
    "from tqdm import tqdm\n",
    "\n",
    "# === Параметры ===\n",
    "SOURCE_FOLDER = \"2022-2025\"\n",
    "OUTPUT_FOLDER = \"thumbnails\"\n",
    "SIZE = (64, 64)\n",
    "\n",
    "os.makedirs(OUTPUT_FOLDER, exist_ok=True)\n",
    "\n",
    "# Список всех .jpg\n",
    "images = [f for f in os.listdir(SOURCE_FOLDER) if f.lower().endswith(\".jpg\")]\n",
    "\n",
    "# Прогресс-бар\n",
    "for fname in tqdm(images, desc=\"Генерация миниатюр\", ncols=80):\n",
    "    in_path = os.path.join(SOURCE_FOLDER, fname)\n",
    "    out_path = os.path.join(OUTPUT_FOLDER, fname)\n",
    "    try:\n",
    "        img = Image.open(in_path)\n",
    "        img.thumbnail(SIZE)\n",
    "        img.save(out_path, \"JPEG\")\n",
    "    except Exception as e:\n",
    "        print(f\"❌ Ошибка {fname}: {e}\")\n",
    "\n",
    "print(f\"✅ Сжато {len(images)} изображений в папку '{OUTPUT_FOLDER}'\")"
   ]
  },
  {
   "cell_type": "code",
   "execution_count": null,
   "id": "9feaa4c6-4669-4e8f-9a72-dd23cefe1a04",
   "metadata": {},
   "outputs": [],
   "source": []
  }
 ],
 "metadata": {
  "kernelspec": {
   "display_name": "Python 3 (ipykernel)",
   "language": "python",
   "name": "python3"
  },
  "language_info": {
   "codemirror_mode": {
    "name": "ipython",
    "version": 3
   },
   "file_extension": ".py",
   "mimetype": "text/x-python",
   "name": "python",
   "nbconvert_exporter": "python",
   "pygments_lexer": "ipython3",
   "version": "3.11.8"
  }
 },
 "nbformat": 4,
 "nbformat_minor": 5
}
