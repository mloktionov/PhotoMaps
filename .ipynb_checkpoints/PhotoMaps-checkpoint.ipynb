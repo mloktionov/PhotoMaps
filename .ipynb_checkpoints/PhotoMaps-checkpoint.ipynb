{
 "cells": [
  {
   "cell_type": "markdown",
   "id": "dcd8b4ca-c76a-4095-8834-da0a81e2b41b",
   "metadata": {},
   "source": [
    "## Step 1. Create csv file with photos\n",
    "\n",
    "(extract coordinates, year, month, date from photo info and puts this data along with photo ID into csv file"
   ]
  },
  {
   "cell_type": "code",
   "execution_count": 36,
   "id": "dcd719d3-1731-47d2-8cef-3b860e972216",
   "metadata": {
    "tags": []
   },
   "outputs": [
    {
     "name": "stderr",
     "output_type": "stream",
     "text": [
      "📷 Обработка изображений: 100%|█████████████| 242/242 [00:00<00:00, 1297.58it/s]"
     ]
    },
    {
     "name": "stdout",
     "output_type": "stream",
     "text": [
      "✅ Сохранено: /Users/mloktionov/PycharmProjects/PhotoMaps/csv/photos.csv\n"
     ]
    },
    {
     "name": "stderr",
     "output_type": "stream",
     "text": [
      "\n"
     ]
    }
   ],
   "source": [
    "import os\n",
    "import pandas as pd\n",
    "from PIL import Image\n",
    "from PIL.ExifTags import TAGS, GPSTAGS\n",
    "import re\n",
    "from tqdm import tqdm\n",
    "\n",
    "# === Параметры ===\n",
    "ROOT = os.path.abspath(\"..\")  # если скрипт лежит в notebooks/\n",
    "IMAGE_FOLDER = os.path.join(ROOT, \"images\")\n",
    "CSV_FOLDER = os.path.join(ROOT, \"csv\")\n",
    "os.makedirs(CSV_FOLDER, exist_ok=True)\n",
    "CSV_OUTPUT = os.path.join(CSV_FOLDER, \"photos.csv\")\n",
    "\n",
    "def convert_to_degrees(v):\n",
    "    d, m, s = v\n",
    "    return float(d) + float(m)/60 + float(s)/3600\n",
    "\n",
    "def extract_gps(image_path):\n",
    "    try:\n",
    "        image = Image.open(image_path)\n",
    "        exif_data = image._getexif()\n",
    "        if not exif_data:\n",
    "            return None, None\n",
    "        gps_raw = {}\n",
    "        for tag_id, val in exif_data.items():\n",
    "            tag = TAGS.get(tag_id)\n",
    "            if tag == \"GPSInfo\":\n",
    "                for key in val:\n",
    "                    gps_tag = GPSTAGS.get(key)\n",
    "                    gps_raw[gps_tag] = val[key]\n",
    "        if 'GPSLatitude' in gps_raw and 'GPSLongitude' in gps_raw:\n",
    "            lat = convert_to_degrees(gps_raw['GPSLatitude'])\n",
    "            if gps_raw.get('GPSLatitudeRef', 'N') != 'N':\n",
    "                lat = -lat\n",
    "            lon = convert_to_degrees(gps_raw['GPSLongitude'])\n",
    "            if gps_raw.get('GPSLongitudeRef', 'E') != 'E':\n",
    "                lon = -lon\n",
    "            return lat, lon\n",
    "    except Exception as e:\n",
    "        print(f\"❌ Ошибка при обработке {image_path}: {e}\")\n",
    "    return None, None\n",
    "\n",
    "def extract_date_from_filename(filename):\n",
    "    match = re.search(r'IMG_(\\d{4})(\\d{2})(\\d{2})', filename)\n",
    "    if match:\n",
    "        return int(match.group(1)), int(match.group(2)), int(match.group(3))\n",
    "    return None, None, None\n",
    "\n",
    "# === Сканирование\n",
    "records = []\n",
    "images = [f for f in os.listdir(IMAGE_FOLDER) if f.lower().endswith(\".jpg\")]\n",
    "\n",
    "for fname in tqdm(images, desc=\"📷 Обработка изображений\", ncols=80):\n",
    "    full_path = os.path.join(IMAGE_FOLDER, fname)\n",
    "    lat, lon = extract_gps(full_path)\n",
    "    year, month, day = extract_date_from_filename(fname)\n",
    "    records.append({\n",
    "        'filename': fname,\n",
    "        'folder': os.path.basename(IMAGE_FOLDER),\n",
    "        'latitude': lat,\n",
    "        'longitude': lon,\n",
    "        'year': year,\n",
    "        'month': month,\n",
    "        'day': day\n",
    "    })\n",
    "\n",
    "# === Сохраняем\n",
    "df = pd.DataFrame(records)\n",
    "df.to_csv(CSV_OUTPUT, index=False)\n",
    "print(f\"✅ Сохранено: {CSV_OUTPUT}\")"
   ]
  },
  {
   "cell_type": "markdown",
   "id": "e64d06e3-1de9-4cbc-ae07-df9232acdb66",
   "metadata": {},
   "source": [
    "## Generating preview thumbnails in circles of a certain color"
   ]
  },
  {
   "cell_type": "code",
   "execution_count": 47,
   "id": "1550d21a-1de2-4f3a-8e12-67e22cfbf8f7",
   "metadata": {
    "tags": []
   },
   "outputs": [
    {
     "name": "stderr",
     "output_type": "stream",
     "text": [
      "🎨 Генерация превью: 100%|████████████████████| 242/242 [00:37<00:00,  6.43it/s]"
     ]
    },
    {
     "name": "stdout",
     "output_type": "stream",
     "text": [
      "✅ 242 миниатюр сгенерировано в папку: /Users/mloktionov/PycharmProjects/PhotoMaps/thumbnails\n"
     ]
    },
    {
     "name": "stderr",
     "output_type": "stream",
     "text": [
      "\n"
     ]
    }
   ],
   "source": [
    "import os\n",
    "import pandas as pd\n",
    "from PIL import Image, ImageDraw\n",
    "from tqdm import tqdm\n",
    "\n",
    "# === Константы проекта ===\n",
    "ROOT = \"/Users/mloktionov/PycharmProjects/PhotoMaps\"\n",
    "CSV_PATH = os.path.join(ROOT, \"csv\", \"photos.csv\")\n",
    "IMAGE_FOLDER = os.path.join(ROOT, \"images\")\n",
    "THUMBNAIL_FOLDER = os.path.join(ROOT, \"thumbnails\")\n",
    "SIZE = (64, 64)\n",
    "BORDER_WIDTH = 4\n",
    "FORMAT = \"PNG\"\n",
    "\n",
    "# === Цветовая палитра по годам ===\n",
    "YEAR_COLORS = {\n",
    "    \"default_before_2000\": \"#8c564b\",\n",
    "    \"default_after_2031\": \"#9467bd\",\n",
    "}\n",
    "palette = [\n",
    "    \"#1f77b4\", \"#ff7f0e\", \"#2ca02c\", \"#d62728\", \"#9467bd\", \"#8c564b\",\n",
    "    \"#e377c2\", \"#7f7f7f\", \"#bcbd22\", \"#17becf\", \"#aec7e8\", \"#ffbb78\",\n",
    "    \"#98df8a\", \"#ff9896\", \"#c5b0d5\", \"#c49c94\", \"#f7b6d2\", \"#c7c7c7\",\n",
    "    \"#dbdb8d\", \"#9edae5\", \"#393b79\", \"#637939\", \"#8c6d31\", \"#843c39\",\n",
    "    \"#7b4173\", \"#3182bd\", \"#e6550d\", \"#31a354\", \"#756bb1\", \"#636363\",\n",
    "    \"#17becf\", \"#bcbd22\"\n",
    "]\n",
    "for i, year in enumerate(range(2000, 2032)):\n",
    "    YEAR_COLORS[year] = palette[i % len(palette)]\n",
    "\n",
    "# === Создание папки превью\n",
    "os.makedirs(THUMBNAIL_FOLDER, exist_ok=True)\n",
    "\n",
    "# === Загрузка CSV\n",
    "df = pd.read_csv(CSV_PATH)\n",
    "\n",
    "# === Функция генерации круглой миниатюры\n",
    "def create_circular_thumbnail(image_path, output_path, border_color):\n",
    "    try:\n",
    "        img = Image.open(image_path).convert(\"RGBA\")\n",
    "        img = img.resize(SIZE, Image.LANCZOS)\n",
    "\n",
    "        # Маска круга\n",
    "        mask = Image.new('L', SIZE, 0)\n",
    "        draw = ImageDraw.Draw(mask)\n",
    "        draw.ellipse((0, 0, SIZE[0], SIZE[1]), fill=255)\n",
    "\n",
    "        # Применяем маску\n",
    "        result = Image.new('RGBA', SIZE)\n",
    "        result.paste(img, (0, 0), mask)\n",
    "\n",
    "        # Обводка\n",
    "        draw = ImageDraw.Draw(result)\n",
    "        inset = BORDER_WIDTH // 2\n",
    "        draw.ellipse(\n",
    "            (inset, inset, SIZE[0] - inset - 1, SIZE[1] - inset - 1),\n",
    "            outline=border_color, width=BORDER_WIDTH\n",
    "        )\n",
    "\n",
    "        # Сохраняем\n",
    "        result.save(output_path, FORMAT)\n",
    "    except Exception as e:\n",
    "        print(f\"❌ Ошибка при обработке {image_path}: {e}\")\n",
    "\n",
    "# === Прогон по всем изображениям\n",
    "for _, row in tqdm(df.iterrows(), total=len(df), desc=\"🎨 Генерация превью\", ncols=80):\n",
    "    fname = row[\"filename\"]\n",
    "    year = int(row[\"year\"]) if not pd.isna(row[\"year\"]) else None\n",
    "\n",
    "    if year is None:\n",
    "        color = \"#999999\"\n",
    "    elif year < 2000:\n",
    "        color = YEAR_COLORS[\"default_before_2000\"]\n",
    "    elif year > 2031:\n",
    "        color = YEAR_COLORS[\"default_after_2031\"]\n",
    "    else:\n",
    "        color = YEAR_COLORS.get(year, \"#000000\")\n",
    "\n",
    "    in_path = os.path.join(IMAGE_FOLDER, fname)\n",
    "    out_name = fname.replace(\".jpg\", \".png\").replace(\".JPG\", \".png\")\n",
    "    out_path = os.path.join(THUMBNAIL_FOLDER, out_name)\n",
    "\n",
    "    create_circular_thumbnail(in_path, out_path, color)\n",
    "\n",
    "print(f\"✅ {len(df)} миниатюр сгенерировано в папку: {THUMBNAIL_FOLDER}\")"
   ]
  },
  {
   "cell_type": "code",
   "execution_count": 49,
   "id": "29522f0d-f0bb-4767-8225-8ac8b00e492d",
   "metadata": {
    "tags": []
   },
   "outputs": [
    {
     "name": "stderr",
     "output_type": "stream",
     "text": [
      "📍 Формируем метки: 100%|██████████████████| 228/228 [00:00<00:00, 34634.79it/s]\n",
      "📦 Упаковка превью: 100%|███████████████████| 484/484 [00:00<00:00, 8404.62it/s]"
     ]
    },
    {
     "name": "stdout",
     "output_type": "stream",
     "text": [
      "✅ KMZ создан и сохранён в: /Users/mloktionov/PycharmProjects/PhotoMaps/kml/PhotoMaps.kmz\n"
     ]
    },
    {
     "name": "stderr",
     "output_type": "stream",
     "text": [
      "\n"
     ]
    }
   ],
   "source": [
    "import os\n",
    "import zipfile\n",
    "import pandas as pd\n",
    "from tqdm import tqdm\n",
    "from xml.sax.saxutils import escape\n",
    "\n",
    "# === Константы ===\n",
    "ROOT = \"/Users/mloktionov/PycharmProjects/PhotoMaps\"\n",
    "CSV_PATH = os.path.join(ROOT, \"csv\", \"photos.csv\")\n",
    "THUMBNAIL_FOLDER = os.path.join(ROOT, \"thumbnails\")\n",
    "KMZ_FOLDER = os.path.join(ROOT, \"kml\")\n",
    "KMZ_NAME = \"PhotoMaps.kmz\"\n",
    "KMZ_PATH = os.path.join(KMZ_FOLDER, KMZ_NAME)\n",
    "\n",
    "# Публичный URL к полноразмерным изображениям\n",
    "FULL_IMAGE_BASE_URL = \"https://mloktionov.github.io/PhotoMaps/images/\"\n",
    "THUMBNAIL_RELATIVE_PATH = \"thumbnails\"  # путь в KMZ\n",
    "\n",
    "# === Загрузка таблицы\n",
    "df = pd.read_csv(CSV_PATH)\n",
    "df = df.dropna(subset=[\"latitude\", \"longitude\"])\n",
    "\n",
    "# === Генерация doc.kml\n",
    "kml_parts = ['''<?xml version=\"1.0\" encoding=\"UTF-8\"?>\n",
    "<kml xmlns=\"http://www.opengis.net/kml/2.2\">\n",
    "  <Document>\n",
    "    <name>PhotoMaps</name>\n",
    "''']\n",
    "\n",
    "for _, row in tqdm(df.iterrows(), total=len(df), desc=\"📍 Формируем метки\", ncols=80):\n",
    "    fname = row[\"filename\"]\n",
    "    lat = row[\"latitude\"]\n",
    "    lon = row[\"longitude\"]\n",
    "    date = f\"{int(row['year'])}-{int(row['month']):02d}-{int(row['day']):02d}\"\n",
    "    thumb_name = fname.replace(\".jpg\", \".png\").replace(\".JPG\", \".png\")\n",
    "    image_url = FULL_IMAGE_BASE_URL + fname\n",
    "    icon_href = os.path.join(THUMBNAIL_RELATIVE_PATH, thumb_name)\n",
    "\n",
    "    placemark = f\"\"\"\n",
    "    <Placemark>\n",
    "      <name>{date}</name>\n",
    "      <Style>\n",
    "        <IconStyle>\n",
    "          <scale>1.2</scale>\n",
    "          <Icon>\n",
    "            <href>{icon_href}</href>\n",
    "          </Icon>\n",
    "        </IconStyle>\n",
    "      </Style>\n",
    "      <description><![CDATA[\n",
    "        <div style=\"font-family: sans-serif; font-size: 13px;\">\n",
    "          <img src=\"{image_url}\" width=\"600\"><br>\n",
    "          <i>{escape(fname)}</i>\n",
    "        </div>\n",
    "      ]]></description>\n",
    "      <Point>\n",
    "        <coordinates>{lon},{lat},0</coordinates>\n",
    "      </Point>\n",
    "    </Placemark>\n",
    "    \"\"\"\n",
    "    kml_parts.append(placemark)\n",
    "\n",
    "kml_parts.append(\"  </Document>\\n</kml>\")\n",
    "\n",
    "# === Сохраняем doc.kml\n",
    "doc_kml_path = os.path.join(KMZ_FOLDER, \"doc.kml\")\n",
    "with open(doc_kml_path, \"w\", encoding=\"utf-8\") as f:\n",
    "    f.write(\"\\n\".join(kml_parts))\n",
    "\n",
    "# === Упаковка .kmz\n",
    "with zipfile.ZipFile(KMZ_PATH, \"w\", zipfile.ZIP_DEFLATED) as kmz:\n",
    "    kmz.write(doc_kml_path, arcname=\"doc.kml\")\n",
    "    for fname in tqdm(os.listdir(THUMBNAIL_FOLDER), desc=\"📦 Упаковка превью\", ncols=80):\n",
    "        if fname.endswith(\".png\"):\n",
    "            full_path = os.path.join(THUMBNAIL_FOLDER, fname)\n",
    "            arcname = os.path.join(\"thumbnails\", fname)\n",
    "            kmz.write(full_path, arcname=arcname)\n",
    "\n",
    "print(f\"✅ KMZ создан и сохранён в: {KMZ_PATH}\")"
   ]
  },
  {
   "cell_type": "code",
   "execution_count": 10,
   "id": "f2256f26-3d1a-47cf-a632-35ef4e7b084f",
   "metadata": {
    "tags": []
   },
   "outputs": [
    {
     "name": "stderr",
     "output_type": "stream",
     "text": [
      "📍 2022: 100%|███████████████████████████████| 79/79 [00:00<00:00, 29129.67it/s]\n"
     ]
    },
    {
     "name": "stdout",
     "output_type": "stream",
     "text": [
      "✅ Сохранено: /Users/mloktionov/PycharmProjects/PhotoMaps/kml/PhotoMaps_2022.kmz\n"
     ]
    },
    {
     "name": "stderr",
     "output_type": "stream",
     "text": [
      "📍 2023: 100%|███████████████████████████████| 86/86 [00:00<00:00, 45717.38it/s]\n"
     ]
    },
    {
     "name": "stdout",
     "output_type": "stream",
     "text": [
      "✅ Сохранено: /Users/mloktionov/PycharmProjects/PhotoMaps/kml/PhotoMaps_2023.kmz\n"
     ]
    },
    {
     "name": "stderr",
     "output_type": "stream",
     "text": [
      "📍 2024: 100%|███████████████████████████████| 31/31 [00:00<00:00, 38847.75it/s]\n"
     ]
    },
    {
     "name": "stdout",
     "output_type": "stream",
     "text": [
      "✅ Сохранено: /Users/mloktionov/PycharmProjects/PhotoMaps/kml/PhotoMaps_2024.kmz\n"
     ]
    },
    {
     "name": "stderr",
     "output_type": "stream",
     "text": [
      "📍 2025: 100%|███████████████████████████████| 32/32 [00:00<00:00, 42785.38it/s]"
     ]
    },
    {
     "name": "stdout",
     "output_type": "stream",
     "text": [
      "✅ Сохранено: /Users/mloktionov/PycharmProjects/PhotoMaps/kml/PhotoMaps_2025.kmz\n"
     ]
    },
    {
     "name": "stderr",
     "output_type": "stream",
     "text": [
      "\n"
     ]
    }
   ],
   "source": [
    "import os\n",
    "import zipfile\n",
    "import pandas as pd\n",
    "from tqdm import tqdm\n",
    "from xml.sax.saxutils import escape\n",
    "\n",
    "# === Константы ===\n",
    "ROOT = os.getcwd()\n",
    "CSV_PATH = os.path.join(ROOT, \"csv\", \"photos.csv\")\n",
    "THUMBNAIL_FOLDER = os.path.join(ROOT, \"thumbnails\")\n",
    "KMZ_FOLDER = os.path.join(ROOT, \"kml\")\n",
    "FULL_IMAGE_BASE_URL = \"https://mloktionov.github.io/PhotoMaps/images/\"\n",
    "THUMBNAIL_RELATIVE_PATH = \"thumbnails\"\n",
    "\n",
    "# === Подготовка\n",
    "os.makedirs(KMZ_FOLDER, exist_ok=True)\n",
    "df = pd.read_csv(CSV_PATH)\n",
    "df = df.dropna(subset=[\"latitude\", \"longitude\"])\n",
    "\n",
    "# === Разбивка по годам\n",
    "years = sorted(df['year'].dropna().unique().astype(int))\n",
    "\n",
    "for year in years:\n",
    "    df_year = df[df['year'] == year]\n",
    "\n",
    "    kml_parts = [f'''<?xml version=\"1.0\" encoding=\"UTF-8\"?>\n",
    "<kml xmlns=\"http://www.opengis.net/kml/2.2\">\n",
    "  <Document>\n",
    "    <name>PhotoMaps {year}</name>\n",
    "''']\n",
    "\n",
    "    for _, row in tqdm(df_year.iterrows(), total=len(df_year), desc=f\"📍 {year}\", ncols=80):\n",
    "        fname = row[\"filename\"]\n",
    "        lat = row[\"latitude\"]\n",
    "        lon = row[\"longitude\"]\n",
    "        month = int(row[\"month\"])\n",
    "        day = int(row[\"day\"])\n",
    "        date_label = f\"{month:02d}-{day:02d}\"\n",
    "\n",
    "        thumb_name = fname.replace(\".jpg\", \".png\").replace(\".JPG\", \".png\")\n",
    "        image_url = FULL_IMAGE_BASE_URL + fname\n",
    "        icon_href = os.path.join(THUMBNAIL_RELATIVE_PATH, thumb_name)\n",
    "\n",
    "        placemark = f\"\"\"\n",
    "        <Placemark>\n",
    "          <name>{date_label}</name>\n",
    "          <Style>\n",
    "            <IconStyle>\n",
    "              <scale>1.2</scale>\n",
    "              <Icon>\n",
    "                <href>{icon_href}</href>\n",
    "              </Icon>\n",
    "            </IconStyle>\n",
    "          </Style>\n",
    "          <description><![CDATA[\n",
    "            <div style=\"font-family: sans-serif; font-size: 13px;\">\n",
    "              <img src=\"{image_url}\" width=\"600\"><br>\n",
    "              <i>{escape(fname)}</i>\n",
    "            </div>\n",
    "          ]]></description>\n",
    "          <Point>\n",
    "            <coordinates>{lon},{lat},0</coordinates>\n",
    "          </Point>\n",
    "        </Placemark>\n",
    "        \"\"\"\n",
    "        kml_parts.append(placemark)\n",
    "\n",
    "    kml_parts.append(\"  </Document>\\n</kml>\")\n",
    "\n",
    "    # Сохраняем doc.kml\n",
    "    doc_kml_path = os.path.join(KMZ_FOLDER, f\"doc_{year}.kml\")\n",
    "    with open(doc_kml_path, \"w\", encoding=\"utf-8\") as f:\n",
    "        f.write(\"\\n\".join(kml_parts))\n",
    "\n",
    "    # Упаковка в KMZ\n",
    "    kmz_path = os.path.join(KMZ_FOLDER, f\"PhotoMaps_{year}.kmz\")\n",
    "    with zipfile.ZipFile(kmz_path, \"w\", zipfile.ZIP_DEFLATED) as kmz:\n",
    "        kmz.write(doc_kml_path, arcname=\"doc.kml\")\n",
    "        needed_thumbs = df_year[\"filename\"].str.replace(\".jpg\", \".png\").str.replace(\".JPG\", \".png\").tolist()\n",
    "        for fname in os.listdir(THUMBNAIL_FOLDER):\n",
    "            if fname in needed_thumbs:\n",
    "                full_path = os.path.join(THUMBNAIL_FOLDER, fname)\n",
    "                arcname = os.path.join(\"thumbnails\", fname)\n",
    "                kmz.write(full_path, arcname=arcname)\n",
    "\n",
    "    print(f\"✅ Сохранено: {kmz_path}\")"
   ]
  },
  {
   "cell_type": "code",
   "execution_count": null,
   "id": "27677ceb-bcaa-465e-adb9-f73cc08b6527",
   "metadata": {},
   "outputs": [],
   "source": []
  }
 ],
 "metadata": {
  "kernelspec": {
   "display_name": "Python 3 (ipykernel)",
   "language": "python",
   "name": "python3"
  },
  "language_info": {
   "codemirror_mode": {
    "name": "ipython",
    "version": 3
   },
   "file_extension": ".py",
   "mimetype": "text/x-python",
   "name": "python",
   "nbconvert_exporter": "python",
   "pygments_lexer": "ipython3",
   "version": "3.11.8"
  }
 },
 "nbformat": 4,
 "nbformat_minor": 5
}
