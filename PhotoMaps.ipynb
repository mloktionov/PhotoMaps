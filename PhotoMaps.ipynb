{
 "cells": [
  {
   "cell_type": "markdown",
   "id": "1f4c3cd3-3dca-4cca-a622-3650e5fba878",
   "metadata": {},
   "source": [
    "✅ Пайплайн обработки PhotoMaps\n",
    "\n",
    "📂 Исходные данные:\n",
    "\t•\tИсходные фото → images/*.jpg\n",
    "    \n",
    "    \n",
    "🔧 Шаг 1 — Сжатие фото\n",
    "\t•\tОткуда: images/\n",
    "\t•\tКуда: photos/\n",
    "\t•\tЧто делает: уменьшает до 1600x1600, сохраняет EXIF, перезаписывает JPG с качеством ~85%\n",
    "\t•\t✅ Используется: Image.thumbnail() + ImageOps.exif_transpose()\n",
    "    \n",
    "📋 Шаг 2 — Генерация CSV\n",
    "\t•\tИсточник: photos/*.jpg\n",
    "\t•\tРезультат: csv/photos.csv\n",
    "\t•\tЧто делает: парсит EXIF, извлекает координаты, дату, имя файла\n",
    "    \n",
    "🎨 Шаг 3 — Генерация превью\n",
    "\t•\tИсточник: photos/\n",
    "\t•\tРезультат: thumbnails/*.png\n",
    "\t•\tЧто делает: круглые PNG 64x64 с цветной рамкой по году\n",
    "    \n",
    "Перед стартом этого пайплайна стоит:\n",
    "\t1.\tОчистить папки photos/ и thumbnails/:\n",
    "    \n",
    "bash:\n",
    "\n",
    "rm -rf photos/*\n",
    "\n",
    "rm -rf thumbnails/*\n",
    "\n",
    "---\n",
    "\n",
    "2.\tЗатем запускаешь ячейки в таком порядке:\n",
    "    \n",
    "- Сжатие (images → photos)\n",
    "- EXIF → CSV (photos → csv/photos.csv)\n",
    "- Превью PNG (photos → thumbnails)"
   ]
  },
  {
   "cell_type": "markdown",
   "id": "dddc74d6-3054-4899-b543-89995ac8c9d1",
   "metadata": {},
   "source": [
    "# Step 1. Script compresses raw jpegs into smaller ones"
   ]
  },
  {
   "cell_type": "code",
   "execution_count": null,
   "id": "6e5479f9-47b4-493e-88e0-5b8d0fed5791",
   "metadata": {},
   "outputs": [],
   "source": []
  },
  {
   "cell_type": "code",
   "execution_count": 74,
   "id": "25389135-fde7-44f5-a82e-6bd2c8b955e3",
   "metadata": {
    "tags": []
   },
   "outputs": [
    {
     "name": "stderr",
     "output_type": "stream",
     "text": [
      "📦 Сжатие изображений: 100%|██████████████████| 662/662 [01:58<00:00,  5.61it/s]"
     ]
    },
    {
     "name": "stdout",
     "output_type": "stream",
     "text": [
      "✅ Обработка завершена. Успешно: 586 | Пропущено: 76 | Лог: /Users/mloktionov/PycharmProjects/PhotoMaps/csv/errors_compression_log.csv\n"
     ]
    },
    {
     "name": "stderr",
     "output_type": "stream",
     "text": [
      "\n"
     ]
    }
   ],
   "source": [
    "import os\n",
    "import piexif\n",
    "import json\n",
    "import csv\n",
    "from PIL import Image\n",
    "from tqdm import tqdm\n",
    "\n",
    "# === Константы ===\n",
    "ROOT = os.getcwd()\n",
    "IMAGES_FOLDER = os.path.join(ROOT, \"images\")\n",
    "PHOTOS_FOLDER = os.path.join(ROOT, \"photos\")\n",
    "CSV_FOLDER = os.path.join(ROOT, \"csv\")\n",
    "os.makedirs(PHOTOS_FOLDER, exist_ok=True)\n",
    "os.makedirs(CSV_FOLDER, exist_ok=True)\n",
    "CSV_LOG = os.path.join(CSV_FOLDER, \"errors_compression_log.csv\")\n",
    "\n",
    "MAX_SIZE = (1600, 1600)\n",
    "\n",
    "def dms_rational(deg_float):\n",
    "    d = int(deg_float)\n",
    "    m_float = (deg_float - d) * 60\n",
    "    m = int(m_float)\n",
    "    s = int((m_float - m) * 60 * 100)\n",
    "    return [(d, 1), (m, 1), (s, 100)]\n",
    "\n",
    "def create_gps_ifd(lat, lon):\n",
    "    return {\n",
    "        piexif.GPSIFD.GPSLatitudeRef: b'N' if lat >= 0 else b'S',\n",
    "        piexif.GPSIFD.GPSLatitude: dms_rational(abs(lat)),\n",
    "        piexif.GPSIFD.GPSLongitudeRef: b'E' if lon >= 0 else b'W',\n",
    "        piexif.GPSIFD.GPSLongitude: dms_rational(abs(lon))\n",
    "    }\n",
    "\n",
    "def extract_coords_from_exif(img):\n",
    "    try:\n",
    "        exif_data = piexif.load(img.info.get(\"exif\", b\"\"))\n",
    "        gps = exif_data.get(\"GPS\", {})\n",
    "        if piexif.GPSIFD.GPSLatitude in gps and piexif.GPSIFD.GPSLongitude in gps:\n",
    "            lat_vals = gps[piexif.GPSIFD.GPSLatitude]\n",
    "            lon_vals = gps[piexif.GPSIFD.GPSLongitude]\n",
    "            lat = lat_vals[0][0]/lat_vals[0][1] + lat_vals[1][0]/lat_vals[1][1]/60 + lat_vals[2][0]/lat_vals[2][1]/3600\n",
    "            lon = lon_vals[0][0]/lon_vals[0][1] + lon_vals[1][0]/lon_vals[1][1]/60 + lon_vals[2][0]/lon_vals[2][1]/3600\n",
    "            if gps.get(piexif.GPSIFD.GPSLatitudeRef) == b'S': lat = -lat\n",
    "            if gps.get(piexif.GPSIFD.GPSLongitudeRef) == b'W': lon = -lon\n",
    "            return lat, lon\n",
    "    except: return None, None\n",
    "    return None, None\n",
    "\n",
    "def extract_coords_from_json(json_path):\n",
    "    try:\n",
    "        with open(json_path, \"r\", encoding=\"utf-8\") as f:\n",
    "            data = json.load(f)\n",
    "            geo = data.get(\"geoData\", {})\n",
    "            lat = geo.get(\"latitude\")\n",
    "            lon = geo.get(\"longitude\")\n",
    "            return float(lat), float(lon) if lat and lon else (None, None)\n",
    "    except: return None, None\n",
    "\n",
    "# === Основной цикл ===\n",
    "errors = []\n",
    "images = [f for f in os.listdir(IMAGES_FOLDER) if f.lower().endswith((\".jpg\", \".jpeg\"))]\n",
    "\n",
    "for fname in tqdm(images, desc=\"📦 Сжатие изображений\", ncols=80):\n",
    "    src = os.path.join(IMAGES_FOLDER, fname)\n",
    "    dst = os.path.join(PHOTOS_FOLDER, fname)\n",
    "    try:\n",
    "        img = Image.open(src)\n",
    "        lat, lon = extract_coords_from_exif(img)\n",
    "        if lat is None or lon is None:\n",
    "            lat, lon = extract_coords_from_json(src + \".supplemental-me.json\")\n",
    "        if lat is None or lon is None:\n",
    "            errors.append([fname, \"no_coordinates\"])\n",
    "            continue\n",
    "        img.thumbnail(MAX_SIZE, Image.LANCZOS)\n",
    "        gps_ifd = create_gps_ifd(lat, lon)\n",
    "        exif_bytes = piexif.dump({\"GPS\": gps_ifd})\n",
    "        img.convert(\"RGB\").save(dst, \"jpeg\", quality=85, optimize=True, exif=exif_bytes)\n",
    "    except Exception as e:\n",
    "        errors.append([fname, str(e)])\n",
    "\n",
    "# === Сохраняем лог ошибок ===\n",
    "with open(CSV_LOG, \"w\", newline=\"\") as f:\n",
    "    writer = csv.writer(f)\n",
    "    writer.writerow([\"filename\", \"error\"])\n",
    "    writer.writerows(errors)\n",
    "\n",
    "print(f\"✅ Обработка завершена. Успешно: {len(images) - len(errors)} | Пропущено: {len(errors)} | Лог: {CSV_LOG}\")"
   ]
  },
  {
   "cell_type": "code",
   "execution_count": null,
   "id": "97afcb44-8197-401a-8334-c7c65875d897",
   "metadata": {},
   "outputs": [],
   "source": [
    "# Step 2. Create csv file with photos\n",
    "\n",
    "# (extract coordinates, year, month, date from photo info and puts this data along with photo ID into csv file"
   ]
  },
  {
   "cell_type": "code",
   "execution_count": 76,
   "id": "dcd719d3-1731-47d2-8cef-3b860e972216",
   "metadata": {
    "tags": []
   },
   "outputs": [
    {
     "name": "stderr",
     "output_type": "stream",
     "text": [
      "📷 Генерация CSV: 100%|█████████████████████| 586/586 [00:00<00:00, 3798.43it/s]"
     ]
    },
    {
     "name": "stdout",
     "output_type": "stream",
     "text": [
      "✅ Сохранено: /Users/mloktionov/PycharmProjects/PhotoMaps/csv/photos.csv (586 записей)\n",
      "✅ Все изображения содержали координаты.\n"
     ]
    },
    {
     "name": "stderr",
     "output_type": "stream",
     "text": [
      "\n"
     ]
    }
   ],
   "source": [
    "import os\n",
    "import pandas as pd\n",
    "from PIL import Image\n",
    "from PIL.ExifTags import TAGS, GPSTAGS\n",
    "import re\n",
    "from tqdm import tqdm\n",
    "\n",
    "# === 📁 Параметры ===\n",
    "ROOT = os.path.abspath(\".\")\n",
    "IMAGE_FOLDER = os.path.join(ROOT, \"photos\")\n",
    "CSV_FOLDER = os.path.join(ROOT, \"csv\")\n",
    "os.makedirs(CSV_FOLDER, exist_ok=True)\n",
    "\n",
    "CSV_OUTPUT = os.path.join(CSV_FOLDER, \"photos.csv\")\n",
    "ERROR_LOG = os.path.join(CSV_FOLDER, \"errors_csv_log.csv\")\n",
    "\n",
    "# === 🧭 EXIF helpers ===\n",
    "def convert_to_degrees(v):\n",
    "    d, m, s = v\n",
    "    return float(d) + float(m)/60 + float(s)/3600\n",
    "\n",
    "def extract_gps(image_path):\n",
    "    try:\n",
    "        image = Image.open(image_path)\n",
    "        exif_data = image._getexif()\n",
    "        if not exif_data:\n",
    "            return None, None\n",
    "        gps_raw = {}\n",
    "        for tag_id, val in exif_data.items():\n",
    "            tag = TAGS.get(tag_id)\n",
    "            if tag == \"GPSInfo\":\n",
    "                for key in val:\n",
    "                    gps_tag = GPSTAGS.get(key)\n",
    "                    gps_raw[gps_tag] = val[key]\n",
    "        if 'GPSLatitude' in gps_raw and 'GPSLongitude' in gps_raw:\n",
    "            lat = convert_to_degrees(gps_raw['GPSLatitude'])\n",
    "            if gps_raw.get('GPSLatitudeRef', 'N') != 'N':\n",
    "                lat = -lat\n",
    "            lon = convert_to_degrees(gps_raw['GPSLongitude'])\n",
    "            if gps_raw.get('GPSLongitudeRef', 'E') != 'E':\n",
    "                lon = -lon\n",
    "            return lat, lon\n",
    "    except Exception as e:\n",
    "        print(f\"❌ Ошибка при обработке {image_path}: {e}\")\n",
    "    return None, None\n",
    "\n",
    "def extract_date_from_filename(filename):\n",
    "    match = re.search(r'IMG_(\\d{4})(\\d{2})(\\d{2})', filename)\n",
    "    if match:\n",
    "        return int(match.group(1)), int(match.group(2)), int(match.group(3))\n",
    "    return None, None, None\n",
    "\n",
    "# === 📊 Обработка изображений ===\n",
    "records = []\n",
    "errors = []\n",
    "\n",
    "images = [f for f in os.listdir(IMAGE_FOLDER) if f.lower().endswith(\".jpg\")]\n",
    "\n",
    "for fname in tqdm(images, desc=\"📷 Генерация CSV\", ncols=80):\n",
    "    full_path = os.path.join(IMAGE_FOLDER, fname)\n",
    "    lat, lon = extract_gps(full_path)\n",
    "    year, month, day = extract_date_from_filename(fname)\n",
    "\n",
    "    if lat is None or lon is None:\n",
    "        errors.append({'filename': fname})\n",
    "        continue\n",
    "\n",
    "    records.append({\n",
    "        'filename': fname,\n",
    "        'folder': os.path.basename(IMAGE_FOLDER),\n",
    "        'latitude': lat,\n",
    "        'longitude': lon,\n",
    "        'year': year,\n",
    "        'month': month,\n",
    "        'day': day\n",
    "    })\n",
    "\n",
    "# === 💾 Сохраняем CSV\n",
    "df = pd.DataFrame(records)\n",
    "df.to_csv(CSV_OUTPUT, index=False)\n",
    "print(f\"✅ Сохранено: {CSV_OUTPUT} ({len(df)} записей)\")\n",
    "\n",
    "# === ⚠️ Сохраняем ошибки (если есть)\n",
    "if errors:\n",
    "    pd.DataFrame(errors).to_csv(ERROR_LOG, index=False)\n",
    "    print(f\"⚠️ Пропущено {len(errors)} изображений без координат. Список: {ERROR_LOG}\")\n",
    "else:\n",
    "    print(\"✅ Все изображения содержали координаты.\")"
   ]
  },
  {
   "cell_type": "markdown",
   "id": "3b09fb3c-dbc1-48c0-ae8e-9e12a2b26d10",
   "metadata": {},
   "source": [
    "##### "
   ]
  },
  {
   "cell_type": "code",
   "execution_count": null,
   "id": "57fc59c3-957c-4227-8203-3a60563f89dc",
   "metadata": {},
   "outputs": [],
   "source": [
    "# ------ Generating preview thumbnails in circles of a certain color"
   ]
  },
  {
   "cell_type": "code",
   "execution_count": 84,
   "id": "1550d21a-1de2-4f3a-8e12-67e22cfbf8f7",
   "metadata": {
    "tags": []
   },
   "outputs": [
    {
     "name": "stderr",
     "output_type": "stream",
     "text": [
      "🌀 Генерация PNG: 100%|███████████████████████| 586/586 [00:16<00:00, 36.60it/s]"
     ]
    },
    {
     "name": "stdout",
     "output_type": "stream",
     "text": [
      "✅ Превьюшки сохранены в: /Users/mloktionov/PycharmProjects/PhotoMaps/thumbnails\n"
     ]
    },
    {
     "name": "stderr",
     "output_type": "stream",
     "text": [
      "\n"
     ]
    }
   ],
   "source": [
    "import os\n",
    "import pandas as pd\n",
    "from PIL import Image, ImageDraw\n",
    "from tqdm import tqdm\n",
    "\n",
    "# === Параметры ===\n",
    "ROOT = os.getcwd()\n",
    "CSV_PATH = os.path.join(ROOT, \"csv\", \"photos.csv\")\n",
    "INPUT_FOLDER = os.path.join(ROOT, \"photos\")\n",
    "THUMBNAIL_FOLDER = os.path.join(ROOT, \"thumbnails\")\n",
    "SIZE = (64, 64)\n",
    "BORDER_WIDTH = 4\n",
    "FORMAT = \"PNG\"\n",
    "\n",
    "# === Цвета по годам ===\n",
    "palette = [\n",
    "    \"#1f77b4\", \"#ff7f0e\", \"#2ca02c\", \"#d62728\", \"#9467bd\", \"#8c564b\",\n",
    "    \"#e377c2\", \"#7f7f7f\", \"#bcbd22\", \"#17becf\", \"#aec7e8\", \"#ffbb78\",\n",
    "    \"#98df8a\", \"#ff9896\", \"#c5b0d5\", \"#c49c94\", \"#f7b6d2\", \"#c7c7c7\",\n",
    "    \"#dbdb8d\", \"#9edae5\", \"#393b79\", \"#637939\", \"#8c6d31\", \"#843c39\",\n",
    "    \"#7b4173\", \"#3182bd\", \"#e6550d\", \"#31a354\", \"#756bb1\", \"#636363\",\n",
    "    \"#17becf\", \"#bcbd22\"\n",
    "]\n",
    "YEAR_COLORS = {\n",
    "    year: palette[i % len(palette)] for i, year in enumerate(range(2000, 2032))\n",
    "}\n",
    "YEAR_COLORS[\"default\"] = \"#999999\"\n",
    "\n",
    "# === Убедимся, что папка есть\n",
    "os.makedirs(THUMBNAIL_FOLDER, exist_ok=True)\n",
    "\n",
    "# === Загрузка CSV\n",
    "df = pd.read_csv(CSV_PATH)\n",
    "\n",
    "# === Генерация круглой иконки\n",
    "def create_thumbnail(image_path, output_path, border_color):\n",
    "    try:\n",
    "        img = Image.open(image_path).convert(\"RGBA\")\n",
    "        img = img.resize(SIZE, Image.LANCZOS)\n",
    "\n",
    "        # Маска круга\n",
    "        mask = Image.new('L', SIZE, 0)\n",
    "        draw = ImageDraw.Draw(mask)\n",
    "        draw.ellipse((0, 0, SIZE[0], SIZE[1]), fill=255)\n",
    "\n",
    "        # Применяем маску\n",
    "        result = Image.new('RGBA', SIZE)\n",
    "        result.paste(img, (0, 0), mask)\n",
    "\n",
    "        # Рамка\n",
    "        draw = ImageDraw.Draw(result)\n",
    "        inset = BORDER_WIDTH // 2\n",
    "        draw.ellipse(\n",
    "            (inset, inset, SIZE[0] - inset - 1, SIZE[1] - inset - 1),\n",
    "            outline=border_color, width=BORDER_WIDTH\n",
    "        )\n",
    "\n",
    "        result.save(output_path, FORMAT)\n",
    "\n",
    "    except Exception as e:\n",
    "        print(f\"❌ Ошибка для {image_path}: {e}\")\n",
    "\n",
    "# === Основной цикл\n",
    "for _, row in tqdm(df.iterrows(), total=len(df), desc=\"🌀 Генерация PNG\", ncols=80):\n",
    "    fname = row[\"filename\"]\n",
    "    year = row[\"year\"]\n",
    "    color = YEAR_COLORS.get(year, YEAR_COLORS[\"default\"])\n",
    "    \n",
    "    in_path = os.path.join(INPUT_FOLDER, fname)\n",
    "    out_name = fname.replace(\".jpg\", \".png\").replace(\".jpeg\", \".png\").replace(\".JPG\", \".png\")\n",
    "    out_path = os.path.join(THUMBNAIL_FOLDER, out_name)\n",
    "\n",
    "    create_thumbnail(in_path, out_path, color)\n",
    "\n",
    "print(f\"✅ Превьюшки сохранены в: {THUMBNAIL_FOLDER}\")"
   ]
  },
  {
   "cell_type": "code",
   "execution_count": null,
   "id": "d5666485-5f34-40bc-b73e-912de273c0d2",
   "metadata": {},
   "outputs": [],
   "source": []
  }
 ],
 "metadata": {
  "kernelspec": {
   "display_name": "Python 3 (ipykernel)",
   "language": "python",
   "name": "python3"
  },
  "language_info": {
   "codemirror_mode": {
    "name": "ipython",
    "version": 3
   },
   "file_extension": ".py",
   "mimetype": "text/x-python",
   "name": "python",
   "nbconvert_exporter": "python",
   "pygments_lexer": "ipython3",
   "version": "3.11.8"
  }
 },
 "nbformat": 4,
 "nbformat_minor": 5
}
