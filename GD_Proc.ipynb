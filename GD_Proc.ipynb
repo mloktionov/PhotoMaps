{
 "cells": [
  {
   "cell_type": "code",
   "execution_count": null,
   "id": "b0105ec2-f0cf-452d-9c96-c9627fae6726",
   "metadata": {},
   "outputs": [],
   "source": [
    "Пайплайн\n",
    "========\n",
    "Часть 2.\n",
    "1. Авторизуется в Google Photos\n",
    "2. Подключается к Google Drive, забирая все ссылки из указанной папки \n",
    "и сохраняет результат в google_drive_links.csv\n",
    "3. Берет ссылки из google_drive_links.csv, подставляет их в photos.geojson \n",
    "и сохраняет в тот же файл photos.geojson."
   ]
  },
  {
   "cell_type": "code",
   "execution_count": null,
   "id": "d6796053-dd8c-4e28-8252-2c07decfe9e5",
   "metadata": {
    "tags": []
   },
   "outputs": [],
   "source": [
    "from pydrive.auth import GoogleAuth\n",
    "gauth = GoogleAuth()\n",
    "gauth.LocalWebserverAuth()"
   ]
  },
  {
   "cell_type": "code",
   "execution_count": null,
   "id": "ca2f623b-08cc-4e11-b9c0-6fb1d8dcc6a7",
   "metadata": {},
   "outputs": [],
   "source": [
    "# Вот полный скрипт, который автоматически формирует google_drive_links.csv, подключаясь к Google Drive, \n",
    "# забирая все ссылки из указанной папки, и сохраняет результат в CSV-файл."
   ]
  },
  {
   "cell_type": "code",
   "execution_count": null,
   "id": "01fdb68b-889e-458d-a443-7c3fa9bc48b8",
   "metadata": {
    "tags": []
   },
   "outputs": [],
   "source": [
    "from pydrive.auth import GoogleAuth\n",
    "from pydrive.drive import GoogleDrive\n",
    "from google_auth_oauthlib.flow import InstalledAppFlow\n",
    "from googleapiclient.discovery import build_from_document\n",
    "import pandas as pd\n",
    "import os\n",
    "from tqdm import tqdm\n",
    "\n",
    "# === Настройки ===\n",
    "SCOPES = ['https://www.googleapis.com/auth/photoslibrary.readonly']\n",
    "FOLDER_ID = '1em81MElkxnaue5r92e9hPGezgOuw4nRL'\n",
    "ALBUM_NAMES = [\"PhotoMap 2022-2025\", \"PhotoMap 2019-2021\", \"PhotoMap 2017-2019\", \"PhotoMap 2014-2016\"]\n",
    "OUTPUT_CSV = 'csv/google_drive_links.csv'\n",
    "\n",
    "# === 🌐 Авторизация Google Photos и Google Drive\n",
    "gauth = GoogleAuth()\n",
    "gauth.LocalWebserverAuth()\n",
    "drive = GoogleDrive(gauth)\n",
    "\n",
    "flow = InstalledAppFlow.from_client_secrets_file('client_secrets.json', SCOPES)\n",
    "credentials = flow.run_local_server(port=0)\n",
    "\n",
    "# === Загрузка Discovery документа\n",
    "with open(\"photoslibrary_v1_discovery.json\", \"r\") as f:\n",
    "    discovery_doc = f.read()\n",
    "service = build_from_document(discovery_doc, credentials=credentials)\n",
    "\n",
    "# === 🔄 Получаем список файлов из Google Drive\n",
    "print(\"🔍 Получаем список файлов из Google Drive...\")\n",
    "file_list = drive.ListFile({'q': f\"'{FOLDER_ID}' in parents and trashed=false\"}).GetList()\n",
    "\n",
    "drive_data = {\n",
    "    'filename': [file['title'] for file in file_list],\n",
    "    'file_id': [file['id'] for file in file_list],\n",
    "    'link': [f\"https://drive.google.com/uc?export=view&id={file['id']}\" for file in file_list],\n",
    "    'description': ['No Description'] * len(file_list)  # УНИФИЦИРОВАЛИ!\n",
    "}\n",
    "\n",
    "df_links = pd.DataFrame(drive_data)\n",
    "df_links.set_index('filename', inplace=True)\n",
    "\n",
    "# === 🔍 Поиск нужных альбомов ===\n",
    "print(\"🔍 Поиск альбомов в Google Photos...\")\n",
    "albums = []\n",
    "nextPageToken = None\n",
    "\n",
    "while True:\n",
    "    response = service.albums().list(pageSize=50, pageToken=nextPageToken).execute()\n",
    "    albums.extend(response.get('albums', []))\n",
    "    nextPageToken = response.get('nextPageToken')\n",
    "    if not nextPageToken:\n",
    "        break\n",
    "\n",
    "target_albums = {album['title']: album['id'] for album in albums if album['title'] in ALBUM_NAMES}\n",
    "\n",
    "# === 💾 Обновляем DataFrame с данными из Google Photos\n",
    "for album_name, album_id in target_albums.items():\n",
    "    print(f\"\\n📂 Альбом: {album_name}\")\n",
    "    nextPageToken = None\n",
    "    \n",
    "    with tqdm(desc=f\"Загрузка из {album_name}\", unit=\"фото\", leave=True) as pbar:\n",
    "        while True:\n",
    "            results = service.mediaItems().search(\n",
    "                body={\"albumId\": album_id, \"pageSize\": 100, \"pageToken\": nextPageToken}\n",
    "            ).execute()\n",
    "\n",
    "            items = results.get('mediaItems', [])\n",
    "            nextPageToken = results.get('nextPageToken')\n",
    "\n",
    "            if not items:\n",
    "                break\n",
    "\n",
    "            for item in items:\n",
    "                description = item.get('description', 'No Description')\n",
    "                filename = item.get('filename', 'No Filename')\n",
    "                \n",
    "                if filename in df_links.index:\n",
    "                    df_links.at[filename, 'description'] = description\n",
    "\n",
    "            # === Динамическое обновление прогресса ===\n",
    "            pbar.update(len(items))\n",
    "\n",
    "            if not nextPageToken:\n",
    "                break\n",
    "\n",
    "# === 💾 Сохранение в CSV\n",
    "os.makedirs('csv', exist_ok=True)\n",
    "df_links.to_csv(OUTPUT_CSV)\n",
    "print(f\"\\n✅ Ссылки и описания успешно сохранены в {OUTPUT_CSV}\")"
   ]
  },
  {
   "cell_type": "code",
   "execution_count": null,
   "id": "5ff1ab47-18c6-4940-9dd4-8f292f70e9bf",
   "metadata": {},
   "outputs": [],
   "source": [
    "# Вот полный скрипт, который берет ссылки из google_drive_links.csv, \n",
    "# подставляет их в photos.geojson и сохраняет в новый файл photos_updated.geojson."
   ]
  },
  {
   "cell_type": "code",
   "execution_count": null,
   "id": "0fdddfa6-546b-4e7b-b060-ce22caa6290c",
   "metadata": {},
   "outputs": [],
   "source": [
    "import pandas as pd\n",
    "import json\n",
    "\n",
    "# === 📁 Чтение данных\n",
    "df_links = pd.read_csv('csv/google_drive_links.csv')\n",
    "\n",
    "# === 🌐 Загрузка GeoJSON\n",
    "with open('geojson/photos.geojson', 'r', encoding='utf-8') as file:\n",
    "    geojson_data = json.load(file)\n",
    "\n",
    "# === 🔄 Обновление ссылок в GeoJSON с использованием thumbnail и full link\n",
    "for feature in geojson_data['features']:\n",
    "    filename = feature['properties']['filename']\n",
    "    matching_row = df_links[df_links['filename'] == filename]\n",
    "    \n",
    "    if not matching_row.empty:\n",
    "        file_id = matching_row.iloc[0]['file_id']\n",
    "        full_link = matching_row.iloc[0]['link']\n",
    "        \n",
    "        # Обновляем поля\n",
    "        thumbnail_link = f\"https://drive.google.com/thumbnail?id={file_id}\"\n",
    "        feature['properties']['image'] = thumbnail_link\n",
    "        feature['properties']['fullname'] = full_link\n",
    "\n",
    "# === 💾 Сохранение обновленного GeoJSON\n",
    "output_path = 'geojson/photos.geojson'\n",
    "with open(output_path, 'w', encoding='utf-8') as file:\n",
    "    json.dump(geojson_data, file, ensure_ascii=False, indent=4)\n",
    "\n",
    "print(f\"✅ Обновленный GeoJSON сохранен в {output_path}\")"
   ]
  },
  {
   "cell_type": "code",
   "execution_count": 1,
   "id": "216b9171-e5c9-4d31-90af-355d5397a949",
   "metadata": {
    "tags": []
   },
   "outputs": [
    {
     "name": "stdout",
     "output_type": "stream",
     "text": [
      "✅ Обновленный GeoJSON сохранен в geojson/photos.geojson\n"
     ]
    }
   ],
   "source": [
    "import pandas as pd\n",
    "import json\n",
    "\n",
    "# === 📁 Чтение данных\n",
    "df_links = pd.read_csv('csv/google_drive_links.csv')\n",
    "\n",
    "# === 🌐 Загрузка GeoJSON\n",
    "with open('geojson/photos.geojson', 'r', encoding='utf-8') as file:\n",
    "    geojson_data = json.load(file)\n",
    "\n",
    "# === 🔄 Обновление ссылок в GeoJSON с использованием thumbnail, full link и description\n",
    "for feature in geojson_data['features']:\n",
    "    filename = feature['properties']['filename']\n",
    "    matching_row = df_links[df_links['filename'] == filename]\n",
    "    \n",
    "    if not matching_row.empty:\n",
    "        file_id = matching_row.iloc[0]['file_id']\n",
    "        full_link = matching_row.iloc[0]['link']\n",
    "        description = matching_row.iloc[0]['description']\n",
    "        \n",
    "        # Обновляем поля\n",
    "        thumbnail_link = f\"https://drive.google.com/thumbnail?id={file_id}\"\n",
    "        feature['properties']['image'] = thumbnail_link\n",
    "        feature['properties']['fullname'] = full_link\n",
    "        \n",
    "        # Добавляем Description, если не 'No Description'\n",
    "        if description != 'No Description':\n",
    "            feature['properties']['description'] = description\n",
    "\n",
    "# === 💾 Сохранение обновленного GeoJSON\n",
    "output_path = 'geojson/photos.geojson'\n",
    "with open(output_path, 'w', encoding='utf-8') as file:\n",
    "    json.dump(geojson_data, file, ensure_ascii=False, indent=4)\n",
    "\n",
    "print(f\"✅ Обновленный GeoJSON сохранен в {output_path}\")"
   ]
  },
  {
   "cell_type": "code",
   "execution_count": null,
   "id": "b7373c69-040e-4604-b747-b642994de56c",
   "metadata": {},
   "outputs": [],
   "source": []
  }
 ],
 "metadata": {
  "kernelspec": {
   "display_name": "Python 3 (ipykernel)",
   "language": "python",
   "name": "python3"
  },
  "language_info": {
   "codemirror_mode": {
    "name": "ipython",
    "version": 3
   },
   "file_extension": ".py",
   "mimetype": "text/x-python",
   "name": "python",
   "nbconvert_exporter": "python",
   "pygments_lexer": "ipython3",
   "version": "3.11.8"
  }
 },
 "nbformat": 4,
 "nbformat_minor": 5
}
