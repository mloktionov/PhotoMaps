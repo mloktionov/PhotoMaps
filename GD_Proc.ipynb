{
 "cells": [
  {
   "cell_type": "code",
   "execution_count": null,
   "id": "b0105ec2-f0cf-452d-9c96-c9627fae6726",
   "metadata": {},
   "outputs": [],
   "source": [
    "Пайплайн\n",
    "========\n",
    "Часть 2.\n",
    "1. Авторизуется в Google Photos\n",
    "2. Подключается к Google Drive, забирая все ссылки из указанной папки \n",
    "и сохраняет результат в google_drive_links.csv"
   ]
  },
  {
   "cell_type": "code",
   "execution_count": null,
   "id": "ca2f623b-08cc-4e11-b9c0-6fb1d8dcc6a7",
   "metadata": {},
   "outputs": [],
   "source": [
    "# Вот полный скрипт, который автоматически формирует google_drive_links.csv, подключаясь к Google Drive, \n",
    "# забирая все ссылки из указанной папки, и сохраняет результат в CSV-файл."
   ]
  },
  {
   "cell_type": "code",
   "execution_count": 19,
   "id": "01fdb68b-889e-458d-a443-7c3fa9bc48b8",
   "metadata": {
    "tags": []
   },
   "outputs": [
    {
     "name": "stdout",
     "output_type": "stream",
     "text": [
      "Your browser has been opened to visit:\n",
      "\n",
      "    https://accounts.google.com/o/oauth2/auth?client_id=849244129200-hdfqohk1rs46hjekajgu7pa4jqrn9sqj.apps.googleusercontent.com&redirect_uri=http%3A%2F%2Flocalhost%3A8080%2F&scope=https%3A%2F%2Fwww.googleapis.com%2Fauth%2Fdrive&access_type=offline&response_type=code\n",
      "\n",
      "Authentication successful.\n",
      "Please visit this URL to authorize this application: https://accounts.google.com/o/oauth2/auth?response_type=code&client_id=849244129200-hdfqohk1rs46hjekajgu7pa4jqrn9sqj.apps.googleusercontent.com&redirect_uri=http%3A%2F%2Flocalhost%3A60396%2F&scope=https%3A%2F%2Fwww.googleapis.com%2Fauth%2Fphotoslibrary.readonly&state=BRHOu9Ewty3yHxsAM1CKmphse8quQq&access_type=offline\n",
      "🔍 Получаем список файлов из Google Drive...\n",
      "🔍 Поиск альбомов в Google Photos...\n",
      "\n",
      "📂 Альбом: PhotoMap 2022-2025\n"
     ]
    },
    {
     "name": "stderr",
     "output_type": "stream",
     "text": [
      "Загрузка из PhotoMap 2022-2025: 653фото [00:06, 104.60фото/s]\n"
     ]
    },
    {
     "name": "stdout",
     "output_type": "stream",
     "text": [
      "\n",
      "📂 Альбом: PhotoMap 2019-2021\n"
     ]
    },
    {
     "name": "stderr",
     "output_type": "stream",
     "text": [
      "Загрузка из PhotoMap 2019-2021: 784фото [00:08, 95.72фото/s] \n"
     ]
    },
    {
     "name": "stdout",
     "output_type": "stream",
     "text": [
      "\n",
      "📂 Альбом: PhotoMap 2017-2019\n"
     ]
    },
    {
     "name": "stderr",
     "output_type": "stream",
     "text": [
      "Загрузка из PhotoMap 2017-2019: 249фото [00:02, 105.59фото/s]\n"
     ]
    },
    {
     "name": "stdout",
     "output_type": "stream",
     "text": [
      "\n",
      "📂 Альбом: PhotoMap 2014-2016\n"
     ]
    },
    {
     "name": "stderr",
     "output_type": "stream",
     "text": [
      "Загрузка из PhotoMap 2014-2016: 381фото [00:03, 98.97фото/s] \n"
     ]
    },
    {
     "name": "stdout",
     "output_type": "stream",
     "text": [
      "\n",
      "📂 Альбом: PhotoMap 2010-2013\n"
     ]
    },
    {
     "name": "stderr",
     "output_type": "stream",
     "text": [
      "Загрузка из PhotoMap 2010-2013: 257фото [00:02, 87.71фото/s]\n"
     ]
    },
    {
     "name": "stdout",
     "output_type": "stream",
     "text": [
      "\n",
      "📂 Альбом: PhotoMap 08-09\n"
     ]
    },
    {
     "name": "stderr",
     "output_type": "stream",
     "text": [
      "Загрузка из PhotoMap 08-09: 109фото [00:02, 53.68фото/s] "
     ]
    },
    {
     "name": "stdout",
     "output_type": "stream",
     "text": [
      "\n",
      "✅ Ссылки и описания успешно сохранены в csv/google_drive_links.csv\n"
     ]
    },
    {
     "name": "stderr",
     "output_type": "stream",
     "text": [
      "\n"
     ]
    }
   ],
   "source": [
    "from pydrive.auth import GoogleAuth\n",
    "from pydrive.drive import GoogleDrive\n",
    "from google_auth_oauthlib.flow import InstalledAppFlow\n",
    "from googleapiclient.discovery import build_from_document\n",
    "import pandas as pd\n",
    "import os\n",
    "from tqdm import tqdm\n",
    "\n",
    "# === Настройки ===\n",
    "SCOPES = ['https://www.googleapis.com/auth/photoslibrary.readonly']\n",
    "FOLDER_ID = '1em81MElkxnaue5r92e9hPGezgOuw4nRL'\n",
    "ALBUM_NAMES = [\"PhotoMap 2022-2025\", \"PhotoMap 2019-2021\", \"PhotoMap 2017-2019\", \"PhotoMap 2014-2016\", \"PhotoMap 2010-2013\", \"PhotoMap 08-09\"]\n",
    "OUTPUT_CSV = 'csv/google_drive_links.csv'\n",
    "\n",
    "# === 🌐 Авторизация Google Photos и Google Drive\n",
    "gauth = GoogleAuth()\n",
    "gauth.LocalWebserverAuth()\n",
    "drive = GoogleDrive(gauth)\n",
    "\n",
    "flow = InstalledAppFlow.from_client_secrets_file('client_secrets.json', SCOPES)\n",
    "credentials = flow.run_local_server(port=0)\n",
    "\n",
    "# === Загрузка Discovery документа\n",
    "with open(\"photoslibrary_v1_discovery.json\", \"r\") as f:\n",
    "    discovery_doc = f.read()\n",
    "service = build_from_document(discovery_doc, credentials=credentials)\n",
    "\n",
    "# === 🔄 Получаем список файлов из Google Drive\n",
    "print(\"🔍 Получаем список файлов из Google Drive...\")\n",
    "file_list = drive.ListFile({'q': f\"'{FOLDER_ID}' in parents and trashed=false\"}).GetList()\n",
    "\n",
    "drive_data = {\n",
    "    'filename': [file['title'] for file in file_list],\n",
    "    'file_id': [file['id'] for file in file_list],\n",
    "    'link': [f\"https://drive.google.com/uc?export=view&id={file['id']}\" for file in file_list],\n",
    "    'description': ['No Description'] * len(file_list)  # УНИФИЦИРОВАЛИ!\n",
    "}\n",
    "\n",
    "df_links = pd.DataFrame(drive_data)\n",
    "df_links.set_index('filename', inplace=True)\n",
    "\n",
    "# === 🔍 Поиск нужных альбомов ===\n",
    "print(\"🔍 Поиск альбомов в Google Photos...\")\n",
    "albums = []\n",
    "nextPageToken = None\n",
    "\n",
    "while True:\n",
    "    response = service.albums().list(pageSize=50, pageToken=nextPageToken).execute()\n",
    "    albums.extend(response.get('albums', []))\n",
    "    nextPageToken = response.get('nextPageToken')\n",
    "    if not nextPageToken:\n",
    "        break\n",
    "\n",
    "target_albums = {album['title']: album['id'] for album in albums if album['title'] in ALBUM_NAMES}\n",
    "\n",
    "# === 💾 Обновляем DataFrame с данными из Google Photos\n",
    "for album_name, album_id in target_albums.items():\n",
    "    print(f\"\\n📂 Альбом: {album_name}\")\n",
    "    nextPageToken = None\n",
    "    \n",
    "    with tqdm(desc=f\"Загрузка из {album_name}\", unit=\"фото\", leave=True) as pbar:\n",
    "        while True:\n",
    "            results = service.mediaItems().search(\n",
    "                body={\"albumId\": album_id, \"pageSize\": 100, \"pageToken\": nextPageToken}\n",
    "            ).execute()\n",
    "\n",
    "            items = results.get('mediaItems', [])\n",
    "            nextPageToken = results.get('nextPageToken')\n",
    "\n",
    "            if not items:\n",
    "                break\n",
    "\n",
    "            for item in items:\n",
    "                description = item.get('description', 'No Description')\n",
    "                filename = item.get('filename', 'No Filename')\n",
    "                \n",
    "                if filename in df_links.index:\n",
    "                    df_links.at[filename, 'description'] = description\n",
    "\n",
    "            # === Динамическое обновление прогресса ===\n",
    "            pbar.update(len(items))\n",
    "\n",
    "            if not nextPageToken:\n",
    "                break\n",
    "\n",
    "# === 💾 Сохранение в CSV\n",
    "os.makedirs('csv', exist_ok=True)\n",
    "df_links.to_csv(OUTPUT_CSV)\n",
    "print(f\"\\n✅ Ссылки и описания успешно сохранены в {OUTPUT_CSV}\")"
   ]
  },
  {
   "cell_type": "code",
   "execution_count": null,
   "id": "4888431e-dc79-4438-bc86-68a8811537b2",
   "metadata": {},
   "outputs": [],
   "source": []
  }
 ],
 "metadata": {
  "kernelspec": {
   "display_name": "Python 3 (ipykernel)",
   "language": "python",
   "name": "python3"
  },
  "language_info": {
   "codemirror_mode": {
    "name": "ipython",
    "version": 3
   },
   "file_extension": ".py",
   "mimetype": "text/x-python",
   "name": "python",
   "nbconvert_exporter": "python",
   "pygments_lexer": "ipython3",
   "version": "3.11.8"
  }
 },
 "nbformat": 4,
 "nbformat_minor": 5
}
