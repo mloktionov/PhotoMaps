{
 "cells": [
  {
   "cell_type": "code",
   "execution_count": 7,
   "id": "d6796053-dd8c-4e28-8252-2c07decfe9e5",
   "metadata": {
    "tags": []
   },
   "outputs": [
    {
     "name": "stdout",
     "output_type": "stream",
     "text": [
      "Your browser has been opened to visit:\n",
      "\n",
      "    https://accounts.google.com/o/oauth2/auth?client_id=849244129200-hdfqohk1rs46hjekajgu7pa4jqrn9sqj.apps.googleusercontent.com&redirect_uri=http%3A%2F%2Flocalhost%3A8080%2F&scope=https%3A%2F%2Fwww.googleapis.com%2Fauth%2Fdrive&access_type=offline&response_type=code\n",
      "\n",
      "Authentication successful.\n"
     ]
    }
   ],
   "source": [
    "from pydrive.auth import GoogleAuth\n",
    "gauth = GoogleAuth()\n",
    "gauth.LocalWebserverAuth()"
   ]
  },
  {
   "cell_type": "code",
   "execution_count": null,
   "id": "ca2f623b-08cc-4e11-b9c0-6fb1d8dcc6a7",
   "metadata": {},
   "outputs": [],
   "source": [
    "# Вот полный скрипт, который автоматически формирует google_drive_links.csv, подключаясь к Google Drive, \n",
    "# забирая все ссылки из указанной папки, и сохраняет результат в CSV-файл."
   ]
  },
  {
   "cell_type": "code",
   "execution_count": 9,
   "id": "019a3ca8-2ead-43e4-9464-450ef5959cb6",
   "metadata": {
    "tags": []
   },
   "outputs": [
    {
     "name": "stdout",
     "output_type": "stream",
     "text": [
      "Your browser has been opened to visit:\n",
      "\n",
      "    https://accounts.google.com/o/oauth2/auth?client_id=849244129200-hdfqohk1rs46hjekajgu7pa4jqrn9sqj.apps.googleusercontent.com&redirect_uri=http%3A%2F%2Flocalhost%3A8080%2F&scope=https%3A%2F%2Fwww.googleapis.com%2Fauth%2Fdrive&access_type=offline&response_type=code\n",
      "\n",
      "Authentication successful.\n",
      "✅ Ссылки успешно сохранены в csv/google_drive_links.csv\n"
     ]
    }
   ],
   "source": [
    "from pydrive.auth import GoogleAuth\n",
    "from pydrive.drive import GoogleDrive\n",
    "import pandas as pd\n",
    "\n",
    "# === 🌐 Авторизация в Google Drive\n",
    "gauth = GoogleAuth()\n",
    "gauth.LocalWebserverAuth()  # Открывает окно авторизации\n",
    "drive = GoogleDrive(gauth)\n",
    "\n",
    "# === 📂 ID папки на Google Drive\n",
    "folder_id = '1em81MElkxnaue5r92e9hPGezgOuw4nRL'\n",
    "\n",
    "# === 🔄 Запрос списка файлов из папки\n",
    "file_list = drive.ListFile({'q': f\"'{folder_id}' in parents and trashed=false\"}).GetList()\n",
    "\n",
    "# === 📋 Сохранение данных в DataFrame\n",
    "data = {\n",
    "    'filename': [file['title'] for file in file_list],\n",
    "    'file_id': [file['id'] for file in file_list],\n",
    "    'link': [f\"https://drive.google.com/uc?export=view&id={file['id']}\" for file in file_list]\n",
    "}\n",
    "\n",
    "df_links = pd.DataFrame(data)\n",
    "\n",
    "# === 💾 Сохранение в CSV\n",
    "output_csv = 'csv/google_drive_links.csv'\n",
    "df_links.to_csv(output_csv, index=False)\n",
    "\n",
    "print(f\"✅ Ссылки успешно сохранены в {output_csv}\")"
   ]
  },
  {
   "cell_type": "code",
   "execution_count": null,
   "id": "5ff1ab47-18c6-4940-9dd4-8f292f70e9bf",
   "metadata": {},
   "outputs": [],
   "source": [
    "# Вот полный скрипт, который берет ссылки из google_drive_links.csv, \n",
    "# подставляет их в photos.geojson и сохраняет в новый файл photos_updated.geojson."
   ]
  },
  {
   "cell_type": "code",
   "execution_count": 27,
   "id": "a32e6164-5031-4d86-9538-3f27e4fc51dd",
   "metadata": {
    "tags": []
   },
   "outputs": [
    {
     "name": "stdout",
     "output_type": "stream",
     "text": [
      "✅ Обновленный GeoJSON сохранен в geojson/photos.geojson\n"
     ]
    }
   ],
   "source": [
    "import pandas as pd\n",
    "import json\n",
    "\n",
    "# === 📁 Чтение данных\n",
    "df_links = pd.read_csv('csv/google_drive_links.csv')\n",
    "\n",
    "# === 🌐 Загрузка GeoJSON\n",
    "with open('geojson/photos.geojson', 'r', encoding='utf-8') as file:\n",
    "    geojson_data = json.load(file)\n",
    "\n",
    "# === 🔄 Обновление ссылок в GeoJSON с использованием thumbnail\n",
    "for feature in geojson_data['features']:\n",
    "    filename = feature['properties']['filename']\n",
    "    matching_row = df_links[df_links['filename'] == filename]\n",
    "    if not matching_row.empty:\n",
    "        file_id = matching_row.iloc[0]['file_id']\n",
    "        new_link = f\"https://drive.google.com/thumbnail?id={file_id}\"\n",
    "        feature['properties']['image'] = new_link\n",
    "\n",
    "# === 💾 Сохранение обновленного GeoJSON\n",
    "output_path = 'geojson/photos.geojson'\n",
    "with open(output_path, 'w', encoding='utf-8') as file:\n",
    "    json.dump(geojson_data, file, ensure_ascii=False, indent=4)\n",
    "\n",
    "print(f\"✅ Обновленный GeoJSON сохранен в {output_path}\")"
   ]
  },
  {
   "cell_type": "code",
   "execution_count": null,
   "id": "0fdddfa6-546b-4e7b-b060-ce22caa6290c",
   "metadata": {},
   "outputs": [],
   "source": []
  }
 ],
 "metadata": {
  "kernelspec": {
   "display_name": "Python 3 (ipykernel)",
   "language": "python",
   "name": "python3"
  },
  "language_info": {
   "codemirror_mode": {
    "name": "ipython",
    "version": 3
   },
   "file_extension": ".py",
   "mimetype": "text/x-python",
   "name": "python",
   "nbconvert_exporter": "python",
   "pygments_lexer": "ipython3",
   "version": "3.11.8"
  }
 },
 "nbformat": 4,
 "nbformat_minor": 5
}
