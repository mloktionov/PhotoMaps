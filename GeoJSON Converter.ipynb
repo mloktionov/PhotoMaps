{
 "cells": [
  {
   "cell_type": "code",
   "execution_count": 26,
   "id": "ae57adb0-91ee-409b-ad45-7a7200e64f99",
   "metadata": {
    "tags": []
   },
   "outputs": [],
   "source": [
    "import pandas as pd\n",
    "import json\n",
    "import os\n",
    "\n",
    "# === 📁 Пути к файлам\n",
    "CSV_PATH = \"csv/photos.csv\"\n",
    "GEOJSON_PATH = \"geojson/photos.geojson\"\n",
    "\n",
    "# === 🗂️ Проверяем, существует ли папка geojson\n",
    "if not os.path.exists('geojson'):\n",
    "    os.makedirs('geojson')"
   ]
  },
  {
   "cell_type": "code",
   "execution_count": 28,
   "id": "2d207ac5-aa73-4659-98fd-7ec6d0828d7c",
   "metadata": {
    "tags": []
   },
   "outputs": [],
   "source": [
    "# === 📦 Читаем CSV\n",
    "df = pd.read_csv(CSV_PATH)\n",
    "\n",
    "# === 🎯 Фильтруем данные с координатами\n",
    "df = df.dropna(subset=['latitude', 'longitude'])\n",
    "\n",
    "# === 🗺️ Генерация GeoJSON\n",
    "features = []\n",
    "for _, row in df.iterrows():\n",
    "    features.append({\n",
    "        \"type\": \"Feature\",\n",
    "        \"geometry\": {\n",
    "            \"type\": \"Point\",\n",
    "            \"coordinates\": [row['longitude'], row['latitude']]\n",
    "        },\n",
    "        \"properties\": {\n",
    "            \"filename\": row['filename'],\n",
    "            \"folder\": row['folder'],\n",
    "            \"year\": row['year'],\n",
    "            \"month\": row['month'],\n",
    "            \"day\": row['day'],\n",
    "            \"source_type\": row['source_type']\n",
    "        }\n",
    "    })"
   ]
  },
  {
   "cell_type": "code",
   "execution_count": 30,
   "id": "fd450f52-90b9-4786-8173-7a2f8cfae131",
   "metadata": {
    "tags": []
   },
   "outputs": [
    {
     "name": "stdout",
     "output_type": "stream",
     "text": [
      "✅ GeoJSON успешно сгенерирован: geojson/photos.geojson\n",
      "📌 Всего точек добавлено: 2065\n"
     ]
    }
   ],
   "source": [
    "# === 💾 Сохраняем в файл\n",
    "with open(GEOJSON_PATH, 'w', encoding='utf-8') as f:\n",
    "    json.dump({\n",
    "        \"type\": \"FeatureCollection\",\n",
    "        \"features\": features\n",
    "    }, f, ensure_ascii=False, indent=4)\n",
    "\n",
    "print(f\"✅ GeoJSON успешно сгенерирован: {GEOJSON_PATH}\")\n",
    "print(f\"📌 Всего точек добавлено: {len(features)}\")"
   ]
  },
  {
   "cell_type": "code",
   "execution_count": null,
   "id": "5d596144-76c5-47fa-b0f6-826a84f861c6",
   "metadata": {},
   "outputs": [],
   "source": []
  }
 ],
 "metadata": {
  "kernelspec": {
   "display_name": "Python 3 (ipykernel)",
   "language": "python",
   "name": "python3"
  },
  "language_info": {
   "codemirror_mode": {
    "name": "ipython",
    "version": 3
   },
   "file_extension": ".py",
   "mimetype": "text/x-python",
   "name": "python",
   "nbconvert_exporter": "python",
   "pygments_lexer": "ipython3",
   "version": "3.11.8"
  }
 },
 "nbformat": 4,
 "nbformat_minor": 5
}
