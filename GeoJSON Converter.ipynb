{
 "cells": [
  {
   "cell_type": "code",
   "execution_count": null,
   "id": "c30572a1-6e69-4a13-8160-265f794579a0",
   "metadata": {},
   "outputs": [],
   "source": [
    "Пайплайн\n",
    "========\n",
    "Часть 3.\n",
    "\n",
    "1. Смотрит пути\n",
    "2. Готовит DataFrame из photos.csv\n",
    "3. Генерирует geojson с полями из DataFrame - \n",
    "4. Добавляет код страны через \"https://nominatim.openstreetmap.org/reverse\""
   ]
  },
  {
   "cell_type": "code",
   "execution_count": 24,
   "id": "ae57adb0-91ee-409b-ad45-7a7200e64f99",
   "metadata": {
    "tags": []
   },
   "outputs": [],
   "source": [
    "import pandas as pd\n",
    "import json\n",
    "import os\n",
    "\n",
    "# === 📁 Пути к файлам\n",
    "CSV_PATH = \"csv/photos.csv\"\n",
    "GEOJSON_PATH = \"geojson/photos.geojson\"\n",
    "\n",
    "# === 🗂️ Проверяем, существует ли папка geojson\n",
    "if not os.path.exists('geojson'):\n",
    "    os.makedirs('geojson')"
   ]
  },
  {
   "cell_type": "code",
   "execution_count": 26,
   "id": "2d207ac5-aa73-4659-98fd-7ec6d0828d7c",
   "metadata": {
    "tags": []
   },
   "outputs": [],
   "source": [
    "# === 📦 Читаем CSV\n",
    "df = pd.read_csv(CSV_PATH)\n",
    "\n",
    "# === 🎯 Фильтруем данные с координатами\n",
    "df = df.dropna(subset=['latitude', 'longitude'])\n",
    "\n",
    "# === 🗺️ Генерация GeoJSON\n",
    "features = []\n",
    "for _, row in df.iterrows():\n",
    "    features.append({\n",
    "        \"type\": \"Feature\",\n",
    "        \"geometry\": {\n",
    "            \"type\": \"Point\",\n",
    "            \"coordinates\": [row['longitude'], row['latitude']]\n",
    "        },\n",
    "        \"properties\": {\n",
    "            \"filename\": row['filename'],\n",
    "            \"folder\": row['folder'],\n",
    "            \"year\": row['year'],\n",
    "            \"month\": row['month'],\n",
    "            \"day\": row['day'],\n",
    "            \"source_type\": row['source_type']\n",
    "        }\n",
    "    })"
   ]
  },
  {
   "cell_type": "code",
   "execution_count": 28,
   "id": "fd450f52-90b9-4786-8173-7a2f8cfae131",
   "metadata": {
    "tags": []
   },
   "outputs": [
    {
     "name": "stdout",
     "output_type": "stream",
     "text": [
      "✅ GeoJSON успешно сгенерирован: geojson/photos.geojson\n",
      "📌 Всего точек добавлено: 2431\n"
     ]
    }
   ],
   "source": [
    "# === 💾 Сохраняем в файл\n",
    "with open(GEOJSON_PATH, 'w', encoding='utf-8') as f:\n",
    "    json.dump({\n",
    "        \"type\": \"FeatureCollection\",\n",
    "        \"features\": features\n",
    "    }, f, ensure_ascii=False, indent=4)\n",
    "\n",
    "print(f\"✅ GeoJSON успешно сгенерирован: {GEOJSON_PATH}\")\n",
    "print(f\"📌 Всего точек добавлено: {len(features)}\")"
   ]
  },
  {
   "cell_type": "code",
   "execution_count": null,
   "id": "3ca2a63e-071b-4fb7-8b99-664e840ff61e",
   "metadata": {},
   "outputs": [],
   "source": []
  },
  {
   "cell_type": "code",
   "execution_count": null,
   "id": "51288fcf-b2de-4f7e-aff6-8ee433885b65",
   "metadata": {},
   "outputs": [],
   "source": [
    "# Вот полный скрипт, который берет ссылки из google_drive_links.csv, \n",
    "# подставляет их в photos.geojson и сохраняет в новый файл photos.geojson."
   ]
  },
  {
   "cell_type": "code",
   "execution_count": 30,
   "id": "c46a137d-111e-44ee-84b1-b9b6d6222c06",
   "metadata": {
    "tags": []
   },
   "outputs": [
    {
     "name": "stdout",
     "output_type": "stream",
     "text": [
      "✅ Добавлены ссылки для: 2431 фото\n"
     ]
    }
   ],
   "source": [
    "import pandas as pd\n",
    "import json\n",
    "\n",
    "# === 📁 Чтение CSV\n",
    "df_links = pd.read_csv('csv/google_drive_links.csv')\n",
    "df_links['normalized'] = df_links['filename'].str.lower()\n",
    "\n",
    "# === 📁 Чтение GeoJSON\n",
    "with open('geojson/photos.geojson', 'r', encoding='utf-8') as file:\n",
    "    geojson_data = json.load(file)\n",
    "\n",
    "missing = []\n",
    "\n",
    "# === Обновление\n",
    "for feature in geojson_data['features']:\n",
    "    geo_name = feature['properties']['filename'].lower()\n",
    "    match = df_links[df_links['normalized'] == geo_name]\n",
    "\n",
    "    if not match.empty:\n",
    "        row = match.iloc[0]\n",
    "        feature['properties']['image'] = f\"https://drive.google.com/thumbnail?id={row['file_id']}\"\n",
    "        feature['properties']['fullname'] = row['link']\n",
    "        if pd.notna(row['description']) and row['description'] != 'No Description':\n",
    "            feature['properties']['description'] = row['description']\n",
    "    else:\n",
    "        missing.append(geo_name)\n",
    "\n",
    "# === 💾 Сохранение\n",
    "with open('geojson/photos.geojson', 'w', encoding='utf-8') as file:\n",
    "    json.dump(geojson_data, file, ensure_ascii=False, indent=4)\n",
    "\n",
    "print(f\"✅ Добавлены ссылки для: {len(geojson_data['features']) - len(missing)} фото\")\n",
    "if missing:\n",
    "    print(f\"⚠️ Не найдены ссылки для {len(missing)} фото:\")\n",
    "    for name in missing:\n",
    "        print(f\" - {name}\")"
   ]
  },
  {
   "cell_type": "code",
   "execution_count": null,
   "id": "5d596144-76c5-47fa-b0f6-826a84f861c6",
   "metadata": {},
   "outputs": [],
   "source": [
    "# --- если нужно добавить в json поле с кодом страны"
   ]
  },
  {
   "cell_type": "code",
   "execution_count": 33,
   "id": "3b1480f2-9e18-43cf-bbad-4ffbb0f55d62",
   "metadata": {
    "tags": []
   },
   "outputs": [
    {
     "name": "stderr",
     "output_type": "stream",
     "text": [
      "Обработка точек: 100%|██████████| 2431/2431 [1:32:26<00:00,  2.28s/it]"
     ]
    },
    {
     "name": "stdout",
     "output_type": "stream",
     "text": [
      "\n",
      "✅ Файл geojson/photos.geojson успешно обновлён с кодами стран.\n"
     ]
    },
    {
     "name": "stderr",
     "output_type": "stream",
     "text": [
      "\n"
     ]
    }
   ],
   "source": [
    "import json\n",
    "import requests\n",
    "import time\n",
    "from tqdm import tqdm\n",
    "import sys\n",
    "\n",
    "GEOJSON_FILE = \"geojson/photos.geojson\"\n",
    "NOMINATIM_URL = \"https://nominatim.openstreetmap.org/reverse\"\n",
    "DELAY = 2  # Задержка между запросами, чтобы избежать лимита API\n",
    "\n",
    "HEADERS = {\n",
    "    'User-Agent': 'PhotoMapsApp (example@domain.com)'\n",
    "}\n",
    "\n",
    "def get_country_code(lat, lon):\n",
    "    \"\"\"\n",
    "    Получение кода страны по координатам через Nominatim API\n",
    "    \"\"\"\n",
    "    try:\n",
    "        response = requests.get(NOMINATIM_URL, params={\n",
    "            'format': 'json',\n",
    "            'lat': lat,\n",
    "            'lon': lon\n",
    "        }, headers=HEADERS)\n",
    "        \n",
    "        if response.status_code == 200:\n",
    "            data = response.json()\n",
    "            country_code = data.get('address', {}).get('country_code', '').upper()\n",
    "            if country_code:\n",
    "                return country_code\n",
    "            else:\n",
    "                print(f\"❌ Ошибка: Страна не найдена для координат {lat}, {lon}\")\n",
    "                sys.exit(1)\n",
    "        else:\n",
    "            print(f\"❌ Ошибка запроса: статус {response.status_code}\")\n",
    "            sys.exit(1)\n",
    "\n",
    "    except Exception as e:\n",
    "        print(f\"❌ Ошибка соединения: {e}\")\n",
    "        sys.exit(1)\n",
    "\n",
    "\n",
    "def enrich_geojson():\n",
    "    \"\"\"\n",
    "    Обогащение GeoJSON данными о стране по координатам\n",
    "    \"\"\"\n",
    "    with open(GEOJSON_FILE, 'r') as file:\n",
    "        geojson_data = json.load(file)\n",
    "\n",
    "    # Прогресс-бар\n",
    "    for feature in tqdm(geojson_data[\"features\"], desc=\"Обработка точек\"):\n",
    "        lat, lon = feature[\"geometry\"][\"coordinates\"][1], feature[\"geometry\"][\"coordinates\"][0]\n",
    "        country_code = get_country_code(lat, lon)\n",
    "        feature[\"properties\"][\"country_code\"] = country_code\n",
    "        time.sleep(DELAY)  # Пауза, чтобы не словить блокировку API\n",
    "\n",
    "    with open(GEOJSON_FILE, 'w') as file:\n",
    "        json.dump(geojson_data, file, indent=4)\n",
    "        print(f\"\\n✅ Файл {GEOJSON_FILE} успешно обновлён с кодами стран.\")\n",
    "\n",
    "\n",
    "# === Запуск процесса ===\n",
    "enrich_geojson()"
   ]
  },
  {
   "cell_type": "code",
   "execution_count": null,
   "id": "e039ac4b-5def-4018-8130-13ecc883bf62",
   "metadata": {},
   "outputs": [],
   "source": []
  }
 ],
 "metadata": {
  "kernelspec": {
   "display_name": "Python 3 (ipykernel)",
   "language": "python",
   "name": "python3"
  },
  "language_info": {
   "codemirror_mode": {
    "name": "ipython",
    "version": 3
   },
   "file_extension": ".py",
   "mimetype": "text/x-python",
   "name": "python",
   "nbconvert_exporter": "python",
   "pygments_lexer": "ipython3",
   "version": "3.11.8"
  }
 },
 "nbformat": 4,
 "nbformat_minor": 5
}
